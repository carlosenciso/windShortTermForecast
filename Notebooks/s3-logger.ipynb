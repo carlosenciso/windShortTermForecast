{
 "cells": [
  {
   "cell_type": "code",
   "execution_count": null,
   "id": "27afaef6",
   "metadata": {},
   "outputs": [],
   "source": [
    "#-- Read dataset from Athena S3 --#\n",
    "import boto3\n",
    "import pandas as pd\n",
    "#-- Main code --#\n",
    "s3 = boto3.client('s3')\n",
    "\"\"\"\n",
    "bucket = 'your-bucket-name'\n",
    "\n",
    "\"\"\""
   ]
  },
  {
   "cell_type": "code",
   "execution_count": null,
   "id": "9b72f698",
   "metadata": {},
   "outputs": [],
   "source": []
  },
  {
   "cell_type": "code",
   "execution_count": 2,
   "id": "78702464",
   "metadata": {},
   "outputs": [],
   "source": [
    "import boto3"
   ]
  },
  {
   "cell_type": "code",
   "execution_count": null,
   "id": "2cf84fdb",
   "metadata": {},
   "outputs": [],
   "source": [
    "import boto3\n",
    "\n",
    "# Initialize S3 client (requires AWS credentials configured in ~/.aws/credentials or env vars)\n",
    "s3 = boto3.client('s3')\n",
    "\n",
    "bucket = \"cdh-dsdatalakecoesprod-514438\"\n",
    "prefix = \"central_generadora/\"\n",
    "\n",
    "# List objects\n",
    "response = s3.list_objects_v2(Bucket=bucket, Prefix=prefix)\n",
    "for obj in response.get('Contents', []):\n",
    "    print(obj['Key'])\n",
    "\n",
    "# Read one file (example CSV/JSON/Parquet)\n",
    "obj = s3.get_object(Bucket=bucket, Key=\"central_generadora/example.csv\")\n",
    "data = obj['Body'].read().decode('utf-8')\n",
    "\n",
    "print(data[:500])  # preview first 500 chars\n"
   ]
  }
 ],
 "metadata": {
  "kernelspec": {
   "display_name": "dash",
   "language": "python",
   "name": "python3"
  },
  "language_info": {
   "codemirror_mode": {
    "name": "ipython",
    "version": 3
   },
   "file_extension": ".py",
   "mimetype": "text/x-python",
   "name": "python",
   "nbconvert_exporter": "python",
   "pygments_lexer": "ipython3",
   "version": "3.9.19"
  }
 },
 "nbformat": 4,
 "nbformat_minor": 5
}
