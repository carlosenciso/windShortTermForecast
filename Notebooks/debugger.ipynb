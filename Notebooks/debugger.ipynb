{
 "cells": [
  {
   "cell_type": "code",
   "execution_count": 1,
   "id": "298c855c-0580-49b7-9e31-115860c4d098",
   "metadata": {},
   "outputs": [],
   "source": [
    "#-------------------\n",
    "# Printer decorator\n",
    "#-------------------\n",
    "def _decorator(func):\n",
    "    def wrap(*args, **kwargs):\n",
    "        print('#'+'-'*(len(*args)+2))\n",
    "        func(*args)\n",
    "        print('#'+'-'*(len(*args)+2))\n",
    "    return wrap\n",
    "@_decorator\n",
    "def printing(msg):\n",
    "    print('# '+msg)"
   ]
  },
  {
   "cell_type": "code",
   "execution_count": 2,
   "id": "a3535b1e-899a-46b7-98a0-ed085e0118ad",
   "metadata": {},
   "outputs": [],
   "source": [
    "#@title CowSay\n",
    "def _decorator(func):\n",
    "    def wrap(*args, **kwargs):\n",
    "        print(' '+'-'*(len(*args)+2))\n",
    "        func(*args)\n",
    "        print(' '+'-'*(len(*args)+2))\n",
    "        print(r\"\"\"\n",
    "        \\   ^__^\n",
    "         \\  (oo)\\_______\n",
    "            (__)\\       )\\/\n",
    "                ||----w |\n",
    "                ||     ||\n",
    "        \"\"\")\n",
    "    return wrap\n",
    "@_decorator\n",
    "def cowsay(msg):\n",
    "    print('<\\033[96m '+msg+'\\033[00m >')"
   ]
  },
  {
   "cell_type": "code",
   "execution_count": 3,
   "id": "a96bf3c3",
   "metadata": {},
   "outputs": [],
   "source": [
    "#-- Import modules --#\n",
    "import plotly.express as px\n",
    "import pandas as pd\n",
    "import numpy as np"
   ]
  },
  {
   "cell_type": "code",
   "execution_count": 4,
   "id": "3311df07",
   "metadata": {},
   "outputs": [
    {
     "data": {
      "text/html": [
       "<div>\n",
       "<style scoped>\n",
       "    .dataframe tbody tr th:only-of-type {\n",
       "        vertical-align: middle;\n",
       "    }\n",
       "\n",
       "    .dataframe tbody tr th {\n",
       "        vertical-align: top;\n",
       "    }\n",
       "\n",
       "    .dataframe thead th {\n",
       "        text-align: right;\n",
       "    }\n",
       "</style>\n",
       "<table border=\"1\" class=\"dataframe\">\n",
       "  <thead>\n",
       "    <tr style=\"text-align: right;\">\n",
       "      <th></th>\n",
       "      <th>date</th>\n",
       "      <th>NombreEmpresa</th>\n",
       "      <th>Tipoinfoabrev</th>\n",
       "      <th>power</th>\n",
       "      <th>name</th>\n",
       "    </tr>\n",
       "  </thead>\n",
       "  <tbody>\n",
       "    <tr>\n",
       "      <th>0</th>\n",
       "      <td>2025-09-08 00:30:00</td>\n",
       "      <td>ENGIE</td>\n",
       "      <td>MW</td>\n",
       "      <td>197.5275</td>\n",
       "      <td>W.F. Punta Lomitas</td>\n",
       "    </tr>\n",
       "    <tr>\n",
       "      <th>1</th>\n",
       "      <td>2025-09-08 01:00:00</td>\n",
       "      <td>ENGIE</td>\n",
       "      <td>MW</td>\n",
       "      <td>197.5275</td>\n",
       "      <td>W.F. Punta Lomitas</td>\n",
       "    </tr>\n",
       "    <tr>\n",
       "      <th>2</th>\n",
       "      <td>2025-09-08 01:30:00</td>\n",
       "      <td>ENGIE</td>\n",
       "      <td>MW</td>\n",
       "      <td>196.5675</td>\n",
       "      <td>W.F. Punta Lomitas</td>\n",
       "    </tr>\n",
       "    <tr>\n",
       "      <th>3</th>\n",
       "      <td>2025-09-08 02:00:00</td>\n",
       "      <td>ENGIE</td>\n",
       "      <td>MW</td>\n",
       "      <td>196.5675</td>\n",
       "      <td>W.F. Punta Lomitas</td>\n",
       "    </tr>\n",
       "    <tr>\n",
       "      <th>4</th>\n",
       "      <td>2025-09-08 02:30:00</td>\n",
       "      <td>ENGIE</td>\n",
       "      <td>MW</td>\n",
       "      <td>197.7335</td>\n",
       "      <td>W.F. Punta Lomitas</td>\n",
       "    </tr>\n",
       "    <tr>\n",
       "      <th>...</th>\n",
       "      <td>...</td>\n",
       "      <td>...</td>\n",
       "      <td>...</td>\n",
       "      <td>...</td>\n",
       "      <td>...</td>\n",
       "    </tr>\n",
       "    <tr>\n",
       "      <th>955</th>\n",
       "      <td>2025-09-09 22:00:00</td>\n",
       "      <td>ORYGEN PERU S.A.A.</td>\n",
       "      <td>MW</td>\n",
       "      <td>83.1575</td>\n",
       "      <td>W.F. Wayra I</td>\n",
       "    </tr>\n",
       "    <tr>\n",
       "      <th>956</th>\n",
       "      <td>2025-09-09 22:30:00</td>\n",
       "      <td>ORYGEN PERU S.A.A.</td>\n",
       "      <td>MW</td>\n",
       "      <td>73.6690</td>\n",
       "      <td>W.F. Wayra I</td>\n",
       "    </tr>\n",
       "    <tr>\n",
       "      <th>957</th>\n",
       "      <td>2025-09-09 23:00:00</td>\n",
       "      <td>ORYGEN PERU S.A.A.</td>\n",
       "      <td>MW</td>\n",
       "      <td>73.6690</td>\n",
       "      <td>W.F. Wayra I</td>\n",
       "    </tr>\n",
       "    <tr>\n",
       "      <th>958</th>\n",
       "      <td>2025-09-09 23:30:00</td>\n",
       "      <td>ORYGEN PERU S.A.A.</td>\n",
       "      <td>MW</td>\n",
       "      <td>65.0355</td>\n",
       "      <td>W.F. Wayra I</td>\n",
       "    </tr>\n",
       "    <tr>\n",
       "      <th>959</th>\n",
       "      <td>2025-09-10 00:00:00</td>\n",
       "      <td>ORYGEN PERU S.A.A.</td>\n",
       "      <td>MW</td>\n",
       "      <td>65.0355</td>\n",
       "      <td>W.F. Wayra I</td>\n",
       "    </tr>\n",
       "  </tbody>\n",
       "</table>\n",
       "<p>960 rows × 5 columns</p>\n",
       "</div>"
      ],
      "text/plain": [
       "                   date       NombreEmpresa Tipoinfoabrev     power  \\\n",
       "0   2025-09-08 00:30:00               ENGIE            MW  197.5275   \n",
       "1   2025-09-08 01:00:00               ENGIE            MW  197.5275   \n",
       "2   2025-09-08 01:30:00               ENGIE            MW  196.5675   \n",
       "3   2025-09-08 02:00:00               ENGIE            MW  196.5675   \n",
       "4   2025-09-08 02:30:00               ENGIE            MW  197.7335   \n",
       "..                  ...                 ...           ...       ...   \n",
       "955 2025-09-09 22:00:00  ORYGEN PERU S.A.A.            MW   83.1575   \n",
       "956 2025-09-09 22:30:00  ORYGEN PERU S.A.A.            MW   73.6690   \n",
       "957 2025-09-09 23:00:00  ORYGEN PERU S.A.A.            MW   73.6690   \n",
       "958 2025-09-09 23:30:00  ORYGEN PERU S.A.A.            MW   65.0355   \n",
       "959 2025-09-10 00:00:00  ORYGEN PERU S.A.A.            MW   65.0355   \n",
       "\n",
       "                   name  \n",
       "0    W.F. Punta Lomitas  \n",
       "1    W.F. Punta Lomitas  \n",
       "2    W.F. Punta Lomitas  \n",
       "3    W.F. Punta Lomitas  \n",
       "4    W.F. Punta Lomitas  \n",
       "..                  ...  \n",
       "955        W.F. Wayra I  \n",
       "956        W.F. Wayra I  \n",
       "957        W.F. Wayra I  \n",
       "958        W.F. Wayra I  \n",
       "959        W.F. Wayra I  \n",
       "\n",
       "[960 rows x 5 columns]"
      ]
     },
     "execution_count": 4,
     "metadata": {},
     "output_type": "execute_result"
    }
   ],
   "source": [
    "#-- Read Gen Dataset --#\n",
    "dataset = pd.read_parquet('../dataset/currentGen.parquet')\n",
    "dataset"
   ]
  },
  {
   "cell_type": "code",
   "execution_count": 5,
   "id": "d650c242",
   "metadata": {},
   "outputs": [
    {
     "data": {
      "text/html": [
       "\n",
       "        <iframe\n",
       "            width=\"100%\"\n",
       "            height=\"650\"\n",
       "            src=\"http://127.0.0.1:8052/\"\n",
       "            frameborder=\"0\"\n",
       "            allowfullscreen\n",
       "            \n",
       "        ></iframe>\n",
       "        "
      ],
      "text/plain": [
       "<IPython.lib.display.IFrame at 0x133980e50>"
      ]
     },
     "metadata": {},
     "output_type": "display_data"
    }
   ],
   "source": [
    "#-- Import modules --#\n",
    "import dash\n",
    "import pandas as pd\n",
    "from dash import Dash, html, dcc, Input, Output, State\n",
    "import dash_bootstrap_components as dbc\n",
    "import plotly.express as px\n",
    "#=======================\n",
    "#    Read Gen Dataset \n",
    "#=======================\n",
    "dataset = pd.read_parquet('../dataset/currentGen.parquet')\n",
    "#========================\n",
    "# App & Theme Setup\n",
    "#========================\n",
    "app = Dash(\n",
    "    __name__,\n",
    "    external_stylesheets=[\n",
    "        # keep icons only; DO NOT preload a dbc theme here\n",
    "        \"https://cdnjs.cloudflare.com/ajax/libs/font-awesome/6.4.0/css/all.min.css\"\n",
    "    ],\n",
    "    assets_folder='/content/assets',\n",
    ")\n",
    "app.title = \"ENGIE WindForecast Platform \"\n",
    "\n",
    "# Choose distinct themes\n",
    "LIGHT_THEME = dbc.themes.CERULEAN\n",
    "DARK_THEME  = dbc.themes.SUPERHERO\n",
    "#========================\n",
    "# UI Bits\n",
    "#========================\n",
    "def create_metric_card(icon, title, value, change, color=\"primary\"):\n",
    "    up = (str(change).startswith(\"+\") or float(str(change).replace(\"+\",\"\").replace(\"%\",\"\")) >= 0)\n",
    "    trend_class = \"text-success\" if up else \"text-danger\"\n",
    "    change_txt  = f\"{change}% from last month\" if \"%\" not in str(change) else f\"{change} from last month\"\n",
    "    return dbc.Card([\n",
    "        dbc.CardBody([\n",
    "            html.Div([\n",
    "                html.Div([html.I(className=f\"fas {icon} fa-2x text-{color}\")],\n",
    "                         className=\"col-3 d-flex align-items-center\"),\n",
    "                html.Div([\n",
    "                    html.H4(value, className=\"mb-0\", style={'font-size': '32px','font-weight': 'bold'}),\n",
    "                    html.P(title, className=\"mb-0 text-muted\"),\n",
    "                    html.Small(change_txt, className=trend_class)\n",
    "                ], className=\"col-9\")\n",
    "            ], className=\"row align-items-center\")\n",
    "        ])\n",
    "    ], className=\"mb-3 shadow-sm\")\n",
    "\n",
    "metric_cards = [\n",
    "    create_metric_card(\"fa-solid fa-wind\", \"m/s\", \"13.5\", \"+2.5\", \"primary\"),\n",
    "    create_metric_card(\"fa-solid fa-bolt\", \"MW\", \"1,234\", \"+900.5\", \"info\"),\n",
    "    create_metric_card(\"fa-solid fa-chart-line\", \"MAPE (%)\", \"20.2\", \"20\", \"warning\"),\n",
    "]\n",
    "\n",
    "color_mode_switch = html.Span(\n",
    "    [\n",
    "        dbc.Label(className=\"fa fa-sun\", html_for=\"switch\"),\n",
    "        dbc.Switch(id=\"switch\", value=False, className=\"d-inline-block ms-1\", persistence=True),\n",
    "        dbc.Label(className=\"fa fa-moon\", html_for=\"switch\"),\n",
    "    ],\n",
    "    className=\"my-2\"\n",
    ")\n",
    "\n",
    "#========================\n",
    "# Layout\n",
    "#========================\n",
    "app.layout = dbc.Container([\n",
    "    # Theme link and state (this is what we toggle)\n",
    "    html.Link(rel=\"stylesheet\", href=LIGHT_THEME, id=\"theme-link\"),\n",
    "    dcc.Store(id=\"theme-store\", data={\"dark\": False}),\n",
    "\n",
    "    dbc.Row([\n",
    "        # Left Panel\n",
    "        dbc.Col([\n",
    "            html.Div([\n",
    "                html.Div(color_mode_switch, className='mb-3 text-end'),\n",
    "                html.Img(\n",
    "                    src='https://upload.wikimedia.org/wikipedia/commons/8/8f/Logo-engie.svg',\n",
    "                    style={'width': '200px','margin-bottom': '20px','display': 'block','margin-left': 'auto','margin-right': 'auto'}\n",
    "                ),\n",
    "                html.H1([html.Span(\"Welcome\"), html.Br(), html.Span(\"WindForecast Platform\")],\n",
    "                        style={'color':'#00bdff'}, className=\"text-center mb-4\"),\n",
    "                html.P(\n",
    "                    \"This platform provides accurate wind forecasts and energy generation \"\n",
    "                    \"insights for 10 wind farms and the SEIN system. It supports short and \"\n",
    "                    \"long-term planning with interactive tools and clear visualizations.\",\n",
    "                    className=\"text-justify mb-4\",\n",
    "                ),\n",
    "                html.H5(\"Forecast Range\", className=\"mb-3\"),\n",
    "                dbc.RadioItems(\n",
    "                    id='top-buttons',\n",
    "                    className='btn-group-horizontal',\n",
    "                    inputClassName='btn-check',\n",
    "                    labelClassName=\"btn btn-outline-primary\",\n",
    "                    labelCheckedClassName=\"btn btn-primary\",\n",
    "                    options=[\n",
    "                        {\"label\": \"Short Term (15 days)\", \"value\":1},\n",
    "                        {\"label\": \"Long  Term (07 months)\", \"value\":2},\n",
    "                    ],\n",
    "                    value=1,\n",
    "                ),\n",
    "                html.Hr(),\n",
    "                html.H5(\"WindFarms\", className=\"mt-4\", style={'color':'#00bdff'}),\n",
    "                dbc.RadioItems(\n",
    "                    id=\"windfarm-buttons\",\n",
    "                    options=[\n",
    "                        {\"label\": \"SEIN\", \"value\": \"0\"},\n",
    "                        {\"label\": \"W.F. Punta Lomitas\", \"value\": \"1\"},\n",
    "                        {\"label\": \"W.F. Cupisnique\", \"value\": \"2\"},\n",
    "                        {\"label\": \"W.F. Duna\", \"value\": \"3\"},\n",
    "                        {\"label\": \"W.F. Huambos\", \"value\": \"4\"},\n",
    "                        {\"label\": \"W.F. Marcona\", \"value\": \"5\"},\n",
    "                        {\"label\": \"W.F. San Juan\", \"value\": \"6\"},\n",
    "                        {\"label\": \"W.F. Talara\", \"value\": \"7\"},\n",
    "                        {\"label\": \"W.F. Tres Hermanas\", \"value\": \"8\"},\n",
    "                        {\"label\": \"W.F. Wayra Ext\", \"value\": \"9\"},\n",
    "                        {\"label\": \"W.F. Wayra I\", \"value\": \"10\"},\n",
    "                    ],\n",
    "                    value=\"1\",\n",
    "                    className=\"mb-3\"\n",
    "                ),\n",
    "            ])\n",
    "        ], width=4),\n",
    "\n",
    "        # Right Panel\n",
    "        dbc.Col([\n",
    "            html.Br(),\n",
    "            html.H4(\"Monitoring KPI\", className=\"mt-4\", style={'color':'#00bdff'}),\n",
    "            dbc.Row([dbc.Col(card, width=4) for card in metric_cards]),\n",
    "            html.H4(\"Forecast Wind Generation\", className=\"mt-4\", style={'color':'#00bdff'}),\n",
    "            dcc.Graph(id='genPlot', style={'height':'250px'}),\n",
    "            html.H4(\"Forecast Wind Resource\", className=\"mt-4\", style={'color':'#00bdff'}),\n",
    "            html.H4(\"Resume Forecast Skill\", className=\"mt-4\", style={'color':'#00bdff'}),\n",
    "        ], width=8)\n",
    "    ])\n",
    "], fluid=True)\n",
    "\n",
    "#========================\n",
    "# Callbacks\n",
    "#========================\n",
    "@app.callback(\n",
    "    Output(\"theme-link\", \"href\"),\n",
    "    Output(\"theme-store\", \"data\"),\n",
    "    Input(\"switch\", \"value\"),\n",
    "    State(\"theme-store\", \"data\"),\n",
    ")\n",
    "def toggle_theme(switch_value, data):\n",
    "    dark = bool(switch_value)\n",
    "    theme_href = DARK_THEME if dark else LIGHT_THEME\n",
    "    return theme_href, {\"dark\": dark}\n",
    "\n",
    "@app.callback(\n",
    "    Output('genPlot', 'figure'),\n",
    "    Input('windfarm-buttons', 'value'),\n",
    "    Input(\"switch\", \"value\"),\n",
    ")\n",
    "def updateGenPlot(windfarm_value, dark):\n",
    "    # Example data hook (replace 'dataset' with your actual DataFrame in scope)\n",
    "    windfarm_mapping = {\n",
    "        \"0\": \"SEIN\", \"1\": \"W.F. Punta Lomitas\", \"2\": \"W.F. Cupisnique\",\n",
    "        \"3\": \"W.F. Duna\", \"4\": \"W.F. Huambos\", \"5\": \"W.F. Marcona\",\n",
    "        \"6\": \"W.F. San Juan\", \"7\": \"W.F. Talara\", \"8\": \"W.F. Tres Hermanas\",\n",
    "        \"9\": \"W.F. Wayra Ext\", \"10\": \"W.F. Wayra I\"\n",
    "    }\n",
    "    windfarm_name = windfarm_mapping.get(windfarm_value, \"SEIN\")\n",
    "    subset = dataset.query(\"name==@windfarm_name\").copy()  # <- ensure 'dataset' exists\n",
    "\n",
    "    colors = {\n",
    "        'background': '#0f2537' if dark else '#ffffff',\n",
    "        'text': '#ffffff' if dark else '#2c3e50',\n",
    "    }\n",
    "\n",
    "    fig = px.line(subset, x='date', y='power', line_shape='linear')\n",
    "    fig.update_traces(line=dict(width=1.2))\n",
    "    fig.update_layout(\n",
    "        template=\"plotly_dark\" if dark else \"plotly_white\",\n",
    "        xaxis=dict(\n",
    "            tickfont_size=9,\n",
    "            showgrid=True, gridcolor='lightgrey', gridwidth=0.01, tickangle=0,\n",
    "            tickformat=\"%d-%b\\n%H:%M hrs.\", dtick=18*3600000, griddash='solid'\n",
    "        ),\n",
    "        yaxis=dict(showgrid=True, gridcolor='lightgrey', tickfont_size=10,\n",
    "                   gridwidth=0.01, griddash='solid', \n",
    "                   title=dict(text='Wind Generation (MW)', font=dict(size=12))\n",
    "                   ),\n",
    "        plot_bgcolor=colors['background'],\n",
    "        paper_bgcolor=colors['background'],\n",
    "        font=dict(color=colors['text']),\n",
    "        xaxis_title='',\n",
    "        # yaxis_title='Wind Generation (MW)',\n",
    "        # width=1000, height=300,\n",
    "        legend=dict(\n",
    "            orientation='h', yanchor='bottom', y=1.05, xanchor='right', x=.8,\n",
    "            tracegroupgap=5, itemclick='toggle', itemdoubleclick='toggle'\n",
    "        ),\n",
    "        hovermode=\"x unified\",\n",
    "        margin=dict(t=10, b=5),\n",
    "        # margin=dict(l=10, r=10, t=10, b=30),\n",
    "        autosize=True,\n",
    "    )\n",
    "    # --- range selector styles based on theme ---\n",
    "    rs_style = dict(\n",
    "        bgcolor=\"#000000\" if dark else \"#ffffff\",\n",
    "        activecolor=\"#4169e1\" if dark else \"#00bdff\",  # royalblue / dodgerblue\n",
    "        font=dict(color=\"#ffffff\" if dark else \"#000000\"),\n",
    "    )\n",
    "    fig.update_xaxes(\n",
    "        rangeslider_visible=True,\n",
    "        rangeselector=dict(\n",
    "            buttons=[\n",
    "                dict(count=1, label=\"1D\", step=\"day\", stepmode=\"backward\"),\n",
    "                dict(count=5, label=\"5D\", step=\"day\", stepmode=\"backward\"),\n",
    "                dict(step=\"all\")\n",
    "            ],\n",
    "            **rs_style\n",
    "        )\n",
    "    )\n",
    "    return fig\n",
    "if __name__ == '__main__':\n",
    "    # If you're in a notebook, use JupyterDash. Otherwise:\n",
    "    app.run(debug=False, port=8052)"
   ]
  },
  {
   "cell_type": "code",
   "execution_count": null,
   "id": "83c12ebe",
   "metadata": {},
   "outputs": [],
   "source": []
  },
  {
   "cell_type": "code",
   "execution_count": null,
   "id": "d9fae9d3",
   "metadata": {},
   "outputs": [],
   "source": []
  },
  {
   "cell_type": "code",
   "execution_count": null,
   "id": "31ee849f",
   "metadata": {},
   "outputs": [],
   "source": []
  },
  {
   "cell_type": "code",
   "execution_count": 55,
   "id": "d121d667",
   "metadata": {},
   "outputs": [
    {
     "data": {
      "text/html": [
       "<div>\n",
       "<style scoped>\n",
       "    .dataframe tbody tr th:only-of-type {\n",
       "        vertical-align: middle;\n",
       "    }\n",
       "\n",
       "    .dataframe tbody tr th {\n",
       "        vertical-align: top;\n",
       "    }\n",
       "\n",
       "    .dataframe thead th {\n",
       "        text-align: right;\n",
       "    }\n",
       "</style>\n",
       "<table border=\"1\" class=\"dataframe\">\n",
       "  <thead>\n",
       "    <tr style=\"text-align: right;\">\n",
       "      <th></th>\n",
       "      <th>date</th>\n",
       "      <th>NombreEmpresa</th>\n",
       "      <th>Tipoinfoabrev</th>\n",
       "      <th>power</th>\n",
       "      <th>name</th>\n",
       "    </tr>\n",
       "  </thead>\n",
       "  <tbody>\n",
       "    <tr>\n",
       "      <th>0</th>\n",
       "      <td>2025-09-08 00:30:00</td>\n",
       "      <td>ENGIE</td>\n",
       "      <td>MW</td>\n",
       "      <td>197.5275</td>\n",
       "      <td>W.F. Punta Lomitas</td>\n",
       "    </tr>\n",
       "    <tr>\n",
       "      <th>1</th>\n",
       "      <td>2025-09-08 01:00:00</td>\n",
       "      <td>ENGIE</td>\n",
       "      <td>MW</td>\n",
       "      <td>197.5275</td>\n",
       "      <td>W.F. Punta Lomitas</td>\n",
       "    </tr>\n",
       "    <tr>\n",
       "      <th>2</th>\n",
       "      <td>2025-09-08 01:30:00</td>\n",
       "      <td>ENGIE</td>\n",
       "      <td>MW</td>\n",
       "      <td>196.5675</td>\n",
       "      <td>W.F. Punta Lomitas</td>\n",
       "    </tr>\n",
       "    <tr>\n",
       "      <th>3</th>\n",
       "      <td>2025-09-08 02:00:00</td>\n",
       "      <td>ENGIE</td>\n",
       "      <td>MW</td>\n",
       "      <td>196.5675</td>\n",
       "      <td>W.F. Punta Lomitas</td>\n",
       "    </tr>\n",
       "    <tr>\n",
       "      <th>4</th>\n",
       "      <td>2025-09-08 02:30:00</td>\n",
       "      <td>ENGIE</td>\n",
       "      <td>MW</td>\n",
       "      <td>197.7335</td>\n",
       "      <td>W.F. Punta Lomitas</td>\n",
       "    </tr>\n",
       "    <tr>\n",
       "      <th>...</th>\n",
       "      <td>...</td>\n",
       "      <td>...</td>\n",
       "      <td>...</td>\n",
       "      <td>...</td>\n",
       "      <td>...</td>\n",
       "    </tr>\n",
       "    <tr>\n",
       "      <th>91</th>\n",
       "      <td>2025-09-09 22:00:00</td>\n",
       "      <td>ENGIE</td>\n",
       "      <td>MW</td>\n",
       "      <td>138.3560</td>\n",
       "      <td>W.F. Punta Lomitas</td>\n",
       "    </tr>\n",
       "    <tr>\n",
       "      <th>92</th>\n",
       "      <td>2025-09-09 22:30:00</td>\n",
       "      <td>ENGIE</td>\n",
       "      <td>MW</td>\n",
       "      <td>131.3810</td>\n",
       "      <td>W.F. Punta Lomitas</td>\n",
       "    </tr>\n",
       "    <tr>\n",
       "      <th>93</th>\n",
       "      <td>2025-09-09 23:00:00</td>\n",
       "      <td>ENGIE</td>\n",
       "      <td>MW</td>\n",
       "      <td>131.3810</td>\n",
       "      <td>W.F. Punta Lomitas</td>\n",
       "    </tr>\n",
       "    <tr>\n",
       "      <th>94</th>\n",
       "      <td>2025-09-09 23:30:00</td>\n",
       "      <td>ENGIE</td>\n",
       "      <td>MW</td>\n",
       "      <td>123.3385</td>\n",
       "      <td>W.F. Punta Lomitas</td>\n",
       "    </tr>\n",
       "    <tr>\n",
       "      <th>95</th>\n",
       "      <td>2025-09-10 00:00:00</td>\n",
       "      <td>ENGIE</td>\n",
       "      <td>MW</td>\n",
       "      <td>123.3385</td>\n",
       "      <td>W.F. Punta Lomitas</td>\n",
       "    </tr>\n",
       "  </tbody>\n",
       "</table>\n",
       "<p>96 rows × 5 columns</p>\n",
       "</div>"
      ],
      "text/plain": [
       "                  date NombreEmpresa Tipoinfoabrev     power  \\\n",
       "0  2025-09-08 00:30:00         ENGIE            MW  197.5275   \n",
       "1  2025-09-08 01:00:00         ENGIE            MW  197.5275   \n",
       "2  2025-09-08 01:30:00         ENGIE            MW  196.5675   \n",
       "3  2025-09-08 02:00:00         ENGIE            MW  196.5675   \n",
       "4  2025-09-08 02:30:00         ENGIE            MW  197.7335   \n",
       "..                 ...           ...           ...       ...   \n",
       "91 2025-09-09 22:00:00         ENGIE            MW  138.3560   \n",
       "92 2025-09-09 22:30:00         ENGIE            MW  131.3810   \n",
       "93 2025-09-09 23:00:00         ENGIE            MW  131.3810   \n",
       "94 2025-09-09 23:30:00         ENGIE            MW  123.3385   \n",
       "95 2025-09-10 00:00:00         ENGIE            MW  123.3385   \n",
       "\n",
       "                  name  \n",
       "0   W.F. Punta Lomitas  \n",
       "1   W.F. Punta Lomitas  \n",
       "2   W.F. Punta Lomitas  \n",
       "3   W.F. Punta Lomitas  \n",
       "4   W.F. Punta Lomitas  \n",
       "..                 ...  \n",
       "91  W.F. Punta Lomitas  \n",
       "92  W.F. Punta Lomitas  \n",
       "93  W.F. Punta Lomitas  \n",
       "94  W.F. Punta Lomitas  \n",
       "95  W.F. Punta Lomitas  \n",
       "\n",
       "[96 rows x 5 columns]"
      ]
     },
     "execution_count": 55,
     "metadata": {},
     "output_type": "execute_result"
    }
   ],
   "source": [
    "dataset.query(\"name=='W.F. Punta Lomitas'\")"
   ]
  },
  {
   "cell_type": "code",
   "execution_count": 5,
   "id": "42e49b87",
   "metadata": {},
   "outputs": [
    {
     "data": {
      "text/plain": [
       "array(['W.F. Punta Lomitas', 'W.F. Cupisnique', 'W.F. Duna',\n",
       "       'W.F. Huambos', 'W.F. Marcona', 'W.F. San Juan', 'W.F. Talara',\n",
       "       'W.F. Tres Hermanas', 'W.F. Wayra Ext', 'W.F. Wayra I'],\n",
       "      dtype=object)"
      ]
     },
     "execution_count": 5,
     "metadata": {},
     "output_type": "execute_result"
    }
   ],
   "source": [
    "dataset['name'].unique()"
   ]
  },
  {
   "cell_type": "code",
   "execution_count": 8,
   "id": "10e797f8",
   "metadata": {},
   "outputs": [
    {
     "data": {
      "text/html": [
       "\n",
       "        <iframe\n",
       "            width=\"100%\"\n",
       "            height=\"650\"\n",
       "            src=\"http://127.0.0.1:8050/\"\n",
       "            frameborder=\"0\"\n",
       "            allowfullscreen\n",
       "            \n",
       "        ></iframe>\n",
       "        "
      ],
      "text/plain": [
       "<IPython.lib.display.IFrame at 0x120cb0f10>"
      ]
     },
     "metadata": {},
     "output_type": "display_data"
    },
    {
     "name": "stdout",
     "output_type": "stream",
     "text": [
      "None\n"
     ]
    }
   ],
   "source": [
    "#-- Import modules --#\n",
    "import dash\n",
    "import time\n",
    "from dash import Dash, html, dcc, Input, Output, State\n",
    "import dash_bootstrap_components as dbc\n",
    "import plotly.graph_objects as go\n",
    "import plotly.express as px\n",
    "\n",
    "#-- Layout --#\n",
    "app = Dash(__name__,\n",
    "           external_stylesheets=[\n",
    "               dbc.themes.SUPERHERO,\n",
    "               \"https://cdnjs.cloudflare.com/ajax/libs/font-awesome/6.4.0/css/all.min.css\"],\n",
    "           assets_folder='/content/assets',\n",
    "           )\n",
    "#-- Tab Name --#\n",
    "app.title = \"ENGIE WindForecast Platform \"\n",
    "#-- Theme to Toggle --#\n",
    "# LIGHT_THEME = dbc.themes.CERULEAN\n",
    "LIGHT_THEME = dbc.themes.SUPERHERO\n",
    "# LIGHT_THEME = dbc.themes.CERULEAN\n",
    "DARK_THEME = dbc.themes.SUPERHERO\n",
    "#-- Cards --#\n",
    "def create_metric_card(icon, title, value, change, color=\"primary\"):\n",
    "    return dbc.Card([\n",
    "        dbc.CardBody([\n",
    "            html.Div([\n",
    "                html.Div([\n",
    "                    html.I(className=f\"fas {icon} fa-2x text-{color}\")\n",
    "                ], className=\"col-3 d-flex align-items-center\"),\n",
    "                html.Div([\n",
    "                    html.H4(value, className=\"mb-0\",\n",
    "                            style={\n",
    "                                'font-size': '32px',\n",
    "                                # 'font-family': 'DidoneRoomNumbers',\n",
    "                                'font-weight': 'bold',\n",
    "                                }),\n",
    "                    html.P(title, className=\"mb-0 text-muted\"),\n",
    "                    html.Small(f\"{change}% from last month\",\n",
    "                              className=f\"text-{'success' if '+' in change else 'danger'}\")\n",
    "                ], className=\"col-9\")\n",
    "            ], className=\"row align-items-center\")\n",
    "        ])\n",
    "    ], className=\"mb-3 shadow-sm\")\n",
    "metric_cards = [\n",
    "                create_metric_card(\"fa-solid fa-wind\", \"m/s\", \"13.5\", \"+2.5\", \"primary\"),\n",
    "                create_metric_card(\"fa-solid fa-bolt\", \"MW\", \"1,234\", \"+900.5\", \"info\"),\n",
    "                create_metric_card(\"fa-solid fa-chart-line\", \"MAPE (%)\", \"20.2\", \"20\", \"warning\"),\n",
    "                ]\n",
    "#-- Function to create sample figures --#\n",
    "\"\"\"\n",
    "  All plots on the right panel\n",
    "\"\"\"\n",
    "#-- UI Theme switch --#\n",
    "color_mode_switch = html.Span(\n",
    "    [\n",
    "        dbc.Label(className=\"fa fa-moon\", html_for=\"switch\"),\n",
    "        dbc.Switch(id=\"switch\", value=False, className=\"d-inline-block ms-1\", persistence=True),\n",
    "        dbc.Label(className=\"fa fa-sun\", html_for=\"switch\"),\n",
    "    ],\n",
    "    className=\"my-2\"\n",
    ")\n",
    "#-- Main Layout --#\n",
    "app.layout = dbc.Container([\n",
    "    #-- Wait for the intro --#\n",
    "    #-- Theme link and store --#\n",
    "    # dbc.Label(className=\"fa fa-moon\", html_for=\"switch\"),\n",
    "    html.Link(rel=\"stylesheet\", href=LIGHT_THEME, id=\"theme-link\"),\n",
    "    dcc.Store(id=\"theme-store\", data={\"dark\": False}),\n",
    "    #-- Left Panel --#\n",
    "    dbc.Row([\n",
    "        dbc.Col([\n",
    "            html.Div([\n",
    "                #-- The switch --#\n",
    "                html.Div(color_mode_switch, className='mb-3 text-end'),\n",
    "                #-- Logo --#\n",
    "                html.Img(\n",
    "                    src='https://upload.wikimedia.org/wikipedia/commons/8/8f/Logo-engie.svg',\n",
    "                    style={\n",
    "                        'width': '200px',\n",
    "                        'margin-bottom': '20px',\n",
    "                        'display': 'block',\n",
    "                        'margin-left': 'auto',\n",
    "                        'margin-right': 'auto'\n",
    "                    }\n",
    "                ),\n",
    "                #-- Title --#\n",
    "                html.H1([\n",
    "                    html.Span(\"Welcome\"),\n",
    "                    html.Br(),\n",
    "                    html.Span(\"WindForecast Platform\")\n",
    "                ],\n",
    "                        style={'color':'#00bdff'},\n",
    "                        className=\"text-center mb-4\"),\n",
    "                #-- Description --#\n",
    "                html.P(\n",
    "                    \"\\\n",
    "                      This platform provides accurate wind forecasts and energy generation \\\n",
    "                      insights for 10 wind farms and the SEIN system. It supports short and \\\n",
    "                      long-term planning with interactive tools and clear visualizations. \\\n",
    "                    \",\n",
    "                    className=\"text-justify mb-4\",\n",
    "                ),\n",
    "                #-- Time range buttons --#\n",
    "                html.H5(\"Forecast Range\", className=\"mb-3\"),\n",
    "                dbc.RadioItems(\n",
    "                    id='top-buttons',\n",
    "                    className='btn-group-horizontal',\n",
    "                    inputClassName='btn-check',\n",
    "                    labelClassName=\"btn btn-outline-primary\",\n",
    "                    labelCheckedClassName=\"btn btn-primary\",\n",
    "                    options=[\n",
    "                        {\"label\": \"Short Term (15 days)\", \"value\":1,},\n",
    "                        {\"label\": \"Long  Term (07 months)\", \"value\":2},\n",
    "                    ],\n",
    "                    value=1,\n",
    "                ),\n",
    "                html.Hr(),\n",
    "                #-- Wind Farms Section --#\n",
    "                html.H5(\"WindFarms\", className=\"mt-4\", style={'color':'#00bdff'},),\n",
    "                dbc.RadioItems(\n",
    "                    id=\"windfarm-buttons\",\n",
    "                    options=[\n",
    "                        {\"label\": \"SEIN\", \"value\": \"SEIN\"},\n",
    "                        {\"label\": \"W.F. Punta Lomitas\", \"value\": \"1\"},\n",
    "                        {\"label\": \"W.F. Cupisnique\", \"value\": \"2\"},\n",
    "                        {\"label\": \"W.F. Duna\", \"value\": \"3\"},\n",
    "                        {\"label\": \"W.F. Huambos\", \"value\": \"4\"},\n",
    "                        {\"label\": \"W.F. Marcona\", \"value\": \"5\"},\n",
    "                        {\"label\": \"W.F. San Juan\", \"value\": \"6\"},\n",
    "                        {\"label\": \"W.F. Talara\", \"value\": \"7\"},\n",
    "                        {\"label\": \"W.F. Tres Hermanas\", \"value\": \"8\"},\n",
    "                        {\"label\": \"W.F. Wayra Ext.\", \"value\": \"9\"},\n",
    "                        {\"label\": \"W.F. Wayra I\", \"value\": \"10\"},\n",
    "                    ],\n",
    "                    value=\"0\",\n",
    "                    className=\"mb-3\"\n",
    "                ),\n",
    "            ])\n",
    "        #-- Set the width left panel --#\n",
    "        ], width=4),\n",
    "        #-- Right Panel --#\n",
    "        dbc.Col([\n",
    "            html.Br(),\n",
    "            html.H4(\"Monitoring KPI\", className=\"mt-4\", style={'color':'#00bdff'},),\n",
    "            dbc.Row([\n",
    "                dbc.Col(card, width=4) for card in metric_cards\n",
    "                ]),\n",
    "            html.H4(\"Forecast Wind Generation\", className=\"mt-4\", style={'color':'#00bdff'},),\n",
    "            #-- Add the generation plot --#\n",
    "            dcc.Graph(id='genPlot', style={'height':'400px'}),\n",
    "            html.H4(\"Forecast Wind Resource\", className=\"mt-4\", style={'color':'#00bdff'},),\n",
    "            html.H4(\"Resume Forecast Skill\", className=\"mt-4\", style={'color':'#00bdff'},),\n",
    "        ], width=8)\n",
    "    ])\n",
    "],\n",
    "  fluid=True,\n",
    "  # className='dashboard-container',\n",
    "\n",
    "  # style={\n",
    "  #     'width':'1400px',\n",
    "  #     'height':'2200px',\n",
    "  #     'display': 'flex',\n",
    "\n",
    "  #     }\n",
    ")\n",
    "@app.callback(\n",
    "    Output('genPlot', 'figure'),\n",
    "    Input('windfarm-buttons', 'label'),\n",
    ")\n",
    "def updateGenPlot(windfarm):\n",
    "    print(windfarm)\n",
    "    # subset = dataset.query(\"name==@windfarm\").copy()\n",
    "    subset = dataset.query(\"name=='W.F. Punta Lomitas'\")\n",
    "    fig = px.line(subset, x='date', y='power')\n",
    "    return fig\n",
    "\n",
    "if __name__ == '__main__':\n",
    "    app.run(mode='inline', debug=False)"
   ]
  },
  {
   "cell_type": "code",
   "execution_count": null,
   "id": "dc8814ed",
   "metadata": {},
   "outputs": [],
   "source": []
  },
  {
   "cell_type": "code",
   "execution_count": 41,
   "id": "c59537e4",
   "metadata": {},
   "outputs": [
    {
     "data": {
      "application/vnd.plotly.v1+json": {
       "config": {
        "plotlyServerURL": "https://plot.ly"
       },
       "data": [
        {
         "hovertemplate": "date=%{x}<br>power=%{y}<extra></extra>",
         "legendgroup": "",
         "line": {
          "color": "#636efa",
          "dash": "solid",
          "shape": "spline"
         },
         "marker": {
          "symbol": "circle"
         },
         "mode": "lines",
         "name": "",
         "orientation": "v",
         "showlegend": false,
         "type": "scatter",
         "x": [
          "2025-09-08T00:30:00.000000000",
          "2025-09-08T01:00:00.000000000",
          "2025-09-08T01:30:00.000000000",
          "2025-09-08T02:00:00.000000000",
          "2025-09-08T02:30:00.000000000",
          "2025-09-08T03:00:00.000000000",
          "2025-09-08T03:30:00.000000000",
          "2025-09-08T04:00:00.000000000",
          "2025-09-08T04:30:00.000000000",
          "2025-09-08T05:00:00.000000000",
          "2025-09-08T05:30:00.000000000",
          "2025-09-08T06:00:00.000000000",
          "2025-09-08T06:30:00.000000000",
          "2025-09-08T07:00:00.000000000",
          "2025-09-08T07:30:00.000000000",
          "2025-09-08T08:00:00.000000000",
          "2025-09-08T08:30:00.000000000",
          "2025-09-08T09:00:00.000000000",
          "2025-09-08T09:30:00.000000000",
          "2025-09-08T10:00:00.000000000",
          "2025-09-08T10:30:00.000000000",
          "2025-09-08T11:00:00.000000000",
          "2025-09-08T11:30:00.000000000",
          "2025-09-08T12:00:00.000000000",
          "2025-09-08T12:30:00.000000000",
          "2025-09-08T13:00:00.000000000",
          "2025-09-08T13:30:00.000000000",
          "2025-09-08T14:00:00.000000000",
          "2025-09-08T14:30:00.000000000",
          "2025-09-08T15:00:00.000000000",
          "2025-09-08T15:30:00.000000000",
          "2025-09-08T16:00:00.000000000",
          "2025-09-08T16:30:00.000000000",
          "2025-09-08T17:00:00.000000000",
          "2025-09-08T17:30:00.000000000",
          "2025-09-08T18:00:00.000000000",
          "2025-09-08T18:30:00.000000000",
          "2025-09-08T19:00:00.000000000",
          "2025-09-08T19:30:00.000000000",
          "2025-09-08T20:00:00.000000000",
          "2025-09-08T20:30:00.000000000",
          "2025-09-08T21:00:00.000000000",
          "2025-09-08T21:30:00.000000000",
          "2025-09-08T22:00:00.000000000",
          "2025-09-08T22:30:00.000000000",
          "2025-09-08T23:00:00.000000000",
          "2025-09-08T23:30:00.000000000",
          "2025-09-09T00:00:00.000000000",
          "2025-09-09T00:30:00.000000000",
          "2025-09-09T01:00:00.000000000",
          "2025-09-09T01:30:00.000000000",
          "2025-09-09T02:00:00.000000000",
          "2025-09-09T02:30:00.000000000",
          "2025-09-09T03:00:00.000000000",
          "2025-09-09T03:30:00.000000000",
          "2025-09-09T04:00:00.000000000",
          "2025-09-09T04:30:00.000000000",
          "2025-09-09T05:00:00.000000000",
          "2025-09-09T05:30:00.000000000",
          "2025-09-09T06:00:00.000000000",
          "2025-09-09T06:30:00.000000000",
          "2025-09-09T07:00:00.000000000",
          "2025-09-09T07:30:00.000000000",
          "2025-09-09T08:00:00.000000000",
          "2025-09-09T08:30:00.000000000",
          "2025-09-09T09:00:00.000000000",
          "2025-09-09T09:30:00.000000000",
          "2025-09-09T10:00:00.000000000",
          "2025-09-09T10:30:00.000000000",
          "2025-09-09T11:00:00.000000000",
          "2025-09-09T11:30:00.000000000",
          "2025-09-09T12:00:00.000000000",
          "2025-09-09T12:30:00.000000000",
          "2025-09-09T13:00:00.000000000",
          "2025-09-09T13:30:00.000000000",
          "2025-09-09T14:00:00.000000000",
          "2025-09-09T14:30:00.000000000",
          "2025-09-09T15:00:00.000000000",
          "2025-09-09T15:30:00.000000000",
          "2025-09-09T16:00:00.000000000",
          "2025-09-09T16:30:00.000000000",
          "2025-09-09T17:00:00.000000000",
          "2025-09-09T17:30:00.000000000",
          "2025-09-09T18:00:00.000000000",
          "2025-09-09T18:30:00.000000000",
          "2025-09-09T19:00:00.000000000",
          "2025-09-09T19:30:00.000000000",
          "2025-09-09T20:00:00.000000000",
          "2025-09-09T20:30:00.000000000",
          "2025-09-09T21:00:00.000000000",
          "2025-09-09T21:30:00.000000000",
          "2025-09-09T22:00:00.000000000",
          "2025-09-09T22:30:00.000000000",
          "2025-09-09T23:00:00.000000000",
          "2025-09-09T23:30:00.000000000",
          "2025-09-10T00:00:00.000000000"
         ],
         "xaxis": "x",
         "y": {
          "bdata": "ZmZmZmamGkBmZmZmZqYaQKRwPQrXYxpApHA9CtdjGkBxPQrXo7AbQHE9CtejsBtAN4lBYOUQHUA3iUFg5RAdQClcj8L16B5AKVyPwvXoHkCLbOf7qdEgQIts5/up0SBAH4XrUbg+IkAfhetRuD4iQEJg5dAimyNAQmDl0CKbI0CkcD0K1yMlQKRwPQrXIyVAWDm0yHa+JkBYObTIdr4mQDVeukkMAihANV66SQwCKEBaZDvfTw0pQFpkO99PDSlAqvHSTWJwKkCq8dJNYnAqQKwcWmQ7vypArBxaZDu/KkAzMzMzM5MoQDMzMzMzkyhA5/up8dJNJkDn+6nx0k0mQNEi2/l+yiNA0SLb+X7KI0C8dJMYBLYgQLx0kxgEtiBAHVpkO9/PGkAdWmQ7388aQHe+nxovXRdAd76fGi9dF0C6SQwCK8cYQLpJDAIrxxhAdZMYBFZOGkB1kxgEVk4aQCuHFtnO9xtAK4cW2c73G0DP91PjpdsdQM/3U+Ol2x1AH4XrUbieH0AfhetRuJ4fQA4tsp3vRyBADi2yne9HIECsHFpkO58gQKwcWmQ7nyBAWDm0yHb+IEBYObTIdv4gQBKDwMqhhSFAEoPAyqGFIUBeukkMAksiQF66SQwCSyJAhxbZzvczI0CHFtnO9zMjQO58PzVeOiVA7nw/NV46JUC+nxov3eQnQL6fGi/d5CdAexSuR+E6KkB7FK5H4ToqQOf7qfHSLSxA5/up8dItLEB7FK5H4XotQHsUrkfhei1A8KfGSzfJLkDwp8ZLN8kuQHsUrkfhui5AexSuR+G6LkAEVg4tsl0sQARWDi2yXSxAhxbZzvfzKUCHFtnO9/MpQIXrUbgeZSdAhetRuB5lJ0AbL90kBmEkQBsv3SQGYSRAPQrXo3D9IEA9CtejcP0gQArXo3A9ChxACtejcD0KHEBg5dAi2/kcQGDl0CLb+RxAWDm0yHY+H0BYObTIdj4fQBKDwMqhpSBAEoPAyqGlIEBGtvP91HghQEa28/3UeCFA",
          "dtype": "f8"
         },
         "yaxis": "y"
        }
       ],
       "layout": {
        "height": 500,
        "hovermode": "x unified",
        "legend": {
         "itemclick": "toggle",
         "itemdoubleclick": "toggle",
         "orientation": "h",
         "tracegroupgap": 5,
         "x": 0.8,
         "xanchor": "right",
         "y": 1.05,
         "yanchor": "bottom"
        },
        "margin": {
         "b": 80,
         "t": 180
        },
        "template": {
         "data": {
          "bar": [
           {
            "error_x": {
             "color": "#2a3f5f"
            },
            "error_y": {
             "color": "#2a3f5f"
            },
            "marker": {
             "line": {
              "color": "white",
              "width": 0.5
             },
             "pattern": {
              "fillmode": "overlay",
              "size": 10,
              "solidity": 0.2
             }
            },
            "type": "bar"
           }
          ],
          "barpolar": [
           {
            "marker": {
             "line": {
              "color": "white",
              "width": 0.5
             },
             "pattern": {
              "fillmode": "overlay",
              "size": 10,
              "solidity": 0.2
             }
            },
            "type": "barpolar"
           }
          ],
          "carpet": [
           {
            "aaxis": {
             "endlinecolor": "#2a3f5f",
             "gridcolor": "#C8D4E3",
             "linecolor": "#C8D4E3",
             "minorgridcolor": "#C8D4E3",
             "startlinecolor": "#2a3f5f"
            },
            "baxis": {
             "endlinecolor": "#2a3f5f",
             "gridcolor": "#C8D4E3",
             "linecolor": "#C8D4E3",
             "minorgridcolor": "#C8D4E3",
             "startlinecolor": "#2a3f5f"
            },
            "type": "carpet"
           }
          ],
          "choropleth": [
           {
            "colorbar": {
             "outlinewidth": 0,
             "ticks": ""
            },
            "type": "choropleth"
           }
          ],
          "contour": [
           {
            "colorbar": {
             "outlinewidth": 0,
             "ticks": ""
            },
            "colorscale": [
             [
              0,
              "#0d0887"
             ],
             [
              0.1111111111111111,
              "#46039f"
             ],
             [
              0.2222222222222222,
              "#7201a8"
             ],
             [
              0.3333333333333333,
              "#9c179e"
             ],
             [
              0.4444444444444444,
              "#bd3786"
             ],
             [
              0.5555555555555556,
              "#d8576b"
             ],
             [
              0.6666666666666666,
              "#ed7953"
             ],
             [
              0.7777777777777778,
              "#fb9f3a"
             ],
             [
              0.8888888888888888,
              "#fdca26"
             ],
             [
              1,
              "#f0f921"
             ]
            ],
            "type": "contour"
           }
          ],
          "contourcarpet": [
           {
            "colorbar": {
             "outlinewidth": 0,
             "ticks": ""
            },
            "type": "contourcarpet"
           }
          ],
          "heatmap": [
           {
            "colorbar": {
             "outlinewidth": 0,
             "ticks": ""
            },
            "colorscale": [
             [
              0,
              "#0d0887"
             ],
             [
              0.1111111111111111,
              "#46039f"
             ],
             [
              0.2222222222222222,
              "#7201a8"
             ],
             [
              0.3333333333333333,
              "#9c179e"
             ],
             [
              0.4444444444444444,
              "#bd3786"
             ],
             [
              0.5555555555555556,
              "#d8576b"
             ],
             [
              0.6666666666666666,
              "#ed7953"
             ],
             [
              0.7777777777777778,
              "#fb9f3a"
             ],
             [
              0.8888888888888888,
              "#fdca26"
             ],
             [
              1,
              "#f0f921"
             ]
            ],
            "type": "heatmap"
           }
          ],
          "histogram": [
           {
            "marker": {
             "pattern": {
              "fillmode": "overlay",
              "size": 10,
              "solidity": 0.2
             }
            },
            "type": "histogram"
           }
          ],
          "histogram2d": [
           {
            "colorbar": {
             "outlinewidth": 0,
             "ticks": ""
            },
            "colorscale": [
             [
              0,
              "#0d0887"
             ],
             [
              0.1111111111111111,
              "#46039f"
             ],
             [
              0.2222222222222222,
              "#7201a8"
             ],
             [
              0.3333333333333333,
              "#9c179e"
             ],
             [
              0.4444444444444444,
              "#bd3786"
             ],
             [
              0.5555555555555556,
              "#d8576b"
             ],
             [
              0.6666666666666666,
              "#ed7953"
             ],
             [
              0.7777777777777778,
              "#fb9f3a"
             ],
             [
              0.8888888888888888,
              "#fdca26"
             ],
             [
              1,
              "#f0f921"
             ]
            ],
            "type": "histogram2d"
           }
          ],
          "histogram2dcontour": [
           {
            "colorbar": {
             "outlinewidth": 0,
             "ticks": ""
            },
            "colorscale": [
             [
              0,
              "#0d0887"
             ],
             [
              0.1111111111111111,
              "#46039f"
             ],
             [
              0.2222222222222222,
              "#7201a8"
             ],
             [
              0.3333333333333333,
              "#9c179e"
             ],
             [
              0.4444444444444444,
              "#bd3786"
             ],
             [
              0.5555555555555556,
              "#d8576b"
             ],
             [
              0.6666666666666666,
              "#ed7953"
             ],
             [
              0.7777777777777778,
              "#fb9f3a"
             ],
             [
              0.8888888888888888,
              "#fdca26"
             ],
             [
              1,
              "#f0f921"
             ]
            ],
            "type": "histogram2dcontour"
           }
          ],
          "mesh3d": [
           {
            "colorbar": {
             "outlinewidth": 0,
             "ticks": ""
            },
            "type": "mesh3d"
           }
          ],
          "parcoords": [
           {
            "line": {
             "colorbar": {
              "outlinewidth": 0,
              "ticks": ""
             }
            },
            "type": "parcoords"
           }
          ],
          "pie": [
           {
            "automargin": true,
            "type": "pie"
           }
          ],
          "scatter": [
           {
            "fillpattern": {
             "fillmode": "overlay",
             "size": 10,
             "solidity": 0.2
            },
            "type": "scatter"
           }
          ],
          "scatter3d": [
           {
            "line": {
             "colorbar": {
              "outlinewidth": 0,
              "ticks": ""
             }
            },
            "marker": {
             "colorbar": {
              "outlinewidth": 0,
              "ticks": ""
             }
            },
            "type": "scatter3d"
           }
          ],
          "scattercarpet": [
           {
            "marker": {
             "colorbar": {
              "outlinewidth": 0,
              "ticks": ""
             }
            },
            "type": "scattercarpet"
           }
          ],
          "scattergeo": [
           {
            "marker": {
             "colorbar": {
              "outlinewidth": 0,
              "ticks": ""
             }
            },
            "type": "scattergeo"
           }
          ],
          "scattergl": [
           {
            "marker": {
             "colorbar": {
              "outlinewidth": 0,
              "ticks": ""
             }
            },
            "type": "scattergl"
           }
          ],
          "scattermap": [
           {
            "marker": {
             "colorbar": {
              "outlinewidth": 0,
              "ticks": ""
             }
            },
            "type": "scattermap"
           }
          ],
          "scattermapbox": [
           {
            "marker": {
             "colorbar": {
              "outlinewidth": 0,
              "ticks": ""
             }
            },
            "type": "scattermapbox"
           }
          ],
          "scatterpolar": [
           {
            "marker": {
             "colorbar": {
              "outlinewidth": 0,
              "ticks": ""
             }
            },
            "type": "scatterpolar"
           }
          ],
          "scatterpolargl": [
           {
            "marker": {
             "colorbar": {
              "outlinewidth": 0,
              "ticks": ""
             }
            },
            "type": "scatterpolargl"
           }
          ],
          "scatterternary": [
           {
            "marker": {
             "colorbar": {
              "outlinewidth": 0,
              "ticks": ""
             }
            },
            "type": "scatterternary"
           }
          ],
          "surface": [
           {
            "colorbar": {
             "outlinewidth": 0,
             "ticks": ""
            },
            "colorscale": [
             [
              0,
              "#0d0887"
             ],
             [
              0.1111111111111111,
              "#46039f"
             ],
             [
              0.2222222222222222,
              "#7201a8"
             ],
             [
              0.3333333333333333,
              "#9c179e"
             ],
             [
              0.4444444444444444,
              "#bd3786"
             ],
             [
              0.5555555555555556,
              "#d8576b"
             ],
             [
              0.6666666666666666,
              "#ed7953"
             ],
             [
              0.7777777777777778,
              "#fb9f3a"
             ],
             [
              0.8888888888888888,
              "#fdca26"
             ],
             [
              1,
              "#f0f921"
             ]
            ],
            "type": "surface"
           }
          ],
          "table": [
           {
            "cells": {
             "fill": {
              "color": "#EBF0F8"
             },
             "line": {
              "color": "white"
             }
            },
            "header": {
             "fill": {
              "color": "#C8D4E3"
             },
             "line": {
              "color": "white"
             }
            },
            "type": "table"
           }
          ]
         },
         "layout": {
          "annotationdefaults": {
           "arrowcolor": "#2a3f5f",
           "arrowhead": 0,
           "arrowwidth": 1
          },
          "autotypenumbers": "strict",
          "coloraxis": {
           "colorbar": {
            "outlinewidth": 0,
            "ticks": ""
           }
          },
          "colorscale": {
           "diverging": [
            [
             0,
             "#8e0152"
            ],
            [
             0.1,
             "#c51b7d"
            ],
            [
             0.2,
             "#de77ae"
            ],
            [
             0.3,
             "#f1b6da"
            ],
            [
             0.4,
             "#fde0ef"
            ],
            [
             0.5,
             "#f7f7f7"
            ],
            [
             0.6,
             "#e6f5d0"
            ],
            [
             0.7,
             "#b8e186"
            ],
            [
             0.8,
             "#7fbc41"
            ],
            [
             0.9,
             "#4d9221"
            ],
            [
             1,
             "#276419"
            ]
           ],
           "sequential": [
            [
             0,
             "#0d0887"
            ],
            [
             0.1111111111111111,
             "#46039f"
            ],
            [
             0.2222222222222222,
             "#7201a8"
            ],
            [
             0.3333333333333333,
             "#9c179e"
            ],
            [
             0.4444444444444444,
             "#bd3786"
            ],
            [
             0.5555555555555556,
             "#d8576b"
            ],
            [
             0.6666666666666666,
             "#ed7953"
            ],
            [
             0.7777777777777778,
             "#fb9f3a"
            ],
            [
             0.8888888888888888,
             "#fdca26"
            ],
            [
             1,
             "#f0f921"
            ]
           ],
           "sequentialminus": [
            [
             0,
             "#0d0887"
            ],
            [
             0.1111111111111111,
             "#46039f"
            ],
            [
             0.2222222222222222,
             "#7201a8"
            ],
            [
             0.3333333333333333,
             "#9c179e"
            ],
            [
             0.4444444444444444,
             "#bd3786"
            ],
            [
             0.5555555555555556,
             "#d8576b"
            ],
            [
             0.6666666666666666,
             "#ed7953"
            ],
            [
             0.7777777777777778,
             "#fb9f3a"
            ],
            [
             0.8888888888888888,
             "#fdca26"
            ],
            [
             1,
             "#f0f921"
            ]
           ]
          },
          "colorway": [
           "#636efa",
           "#EF553B",
           "#00cc96",
           "#ab63fa",
           "#FFA15A",
           "#19d3f3",
           "#FF6692",
           "#B6E880",
           "#FF97FF",
           "#FECB52"
          ],
          "font": {
           "color": "#2a3f5f"
          },
          "geo": {
           "bgcolor": "white",
           "lakecolor": "white",
           "landcolor": "white",
           "showlakes": true,
           "showland": true,
           "subunitcolor": "#C8D4E3"
          },
          "hoverlabel": {
           "align": "left"
          },
          "hovermode": "closest",
          "mapbox": {
           "style": "light"
          },
          "paper_bgcolor": "white",
          "plot_bgcolor": "white",
          "polar": {
           "angularaxis": {
            "gridcolor": "#EBF0F8",
            "linecolor": "#EBF0F8",
            "ticks": ""
           },
           "bgcolor": "white",
           "radialaxis": {
            "gridcolor": "#EBF0F8",
            "linecolor": "#EBF0F8",
            "ticks": ""
           }
          },
          "scene": {
           "xaxis": {
            "backgroundcolor": "white",
            "gridcolor": "#DFE8F3",
            "gridwidth": 2,
            "linecolor": "#EBF0F8",
            "showbackground": true,
            "ticks": "",
            "zerolinecolor": "#EBF0F8"
           },
           "yaxis": {
            "backgroundcolor": "white",
            "gridcolor": "#DFE8F3",
            "gridwidth": 2,
            "linecolor": "#EBF0F8",
            "showbackground": true,
            "ticks": "",
            "zerolinecolor": "#EBF0F8"
           },
           "zaxis": {
            "backgroundcolor": "white",
            "gridcolor": "#DFE8F3",
            "gridwidth": 2,
            "linecolor": "#EBF0F8",
            "showbackground": true,
            "ticks": "",
            "zerolinecolor": "#EBF0F8"
           }
          },
          "shapedefaults": {
           "line": {
            "color": "#2a3f5f"
           }
          },
          "ternary": {
           "aaxis": {
            "gridcolor": "#DFE8F3",
            "linecolor": "#A2B1C6",
            "ticks": ""
           },
           "baxis": {
            "gridcolor": "#DFE8F3",
            "linecolor": "#A2B1C6",
            "ticks": ""
           },
           "bgcolor": "white",
           "caxis": {
            "gridcolor": "#DFE8F3",
            "linecolor": "#A2B1C6",
            "ticks": ""
           }
          },
          "title": {
           "x": 0.05
          },
          "xaxis": {
           "automargin": true,
           "gridcolor": "#EBF0F8",
           "linecolor": "#EBF0F8",
           "ticks": "",
           "title": {
            "standoff": 15
           },
           "zerolinecolor": "#EBF0F8",
           "zerolinewidth": 2
          },
          "yaxis": {
           "automargin": true,
           "gridcolor": "#EBF0F8",
           "linecolor": "#EBF0F8",
           "ticks": "",
           "title": {
            "standoff": 15
           },
           "zerolinecolor": "#EBF0F8",
           "zerolinewidth": 2
          }
         }
        },
        "title": {
         "font": {
          "color": "black",
          "family": "Arial",
          "size": 24
         },
         "text": "<br><sup>Monthly average – Simulated Data </sup></br>"
        },
        "width": 1000,
        "xaxis": {
         "anchor": "y",
         "domain": [
          0,
          1
         ],
         "rangeselector": {
          "buttons": [
           {
            "count": 1,
            "label": "1d",
            "step": "day",
            "stepmode": "backward"
           },
           {
            "count": 5,
            "label": "5d",
            "step": "day",
            "stepmode": "backward"
           },
           {
            "count": 10,
            "label": "10d",
            "step": "day",
            "stepmode": "todate"
           },
           {
            "step": "all"
           }
          ]
         },
         "rangeslider": {
          "visible": true
         },
         "title": {
          "text": ""
         }
        },
        "yaxis": {
         "anchor": "x",
         "domain": [
          0,
          1
         ],
         "title": {
          "text": "Wind Generation (MW)"
         }
        }
       }
      }
     },
     "metadata": {},
     "output_type": "display_data"
    }
   ],
   "source": [
    "#-- Simple Plot --#\n",
    "sname = dataset['name'].unique()[3]\n",
    "fig = px.line(dataset.query(\"name==@sname\"), x='date', y='power', line_shape='spline')\n",
    "fig.update_layout(xaxis_title='', yaxis_title='Wind Generation (MW)')\n",
    "fig.update_xaxes(\n",
    "    rangeslider_visible=True,\n",
    "    rangeselector=dict(\n",
    "        buttons=list([\n",
    "            dict(count=1, label=\"1d\", step=\"day\", stepmode=\"backward\", ),\n",
    "            dict(count=5, label=\"5d\", step=\"day\", stepmode=\"backward\"),\n",
    "            dict(count=10, label=\"10d\", step=\"day\", stepmode=\"todate\"),\n",
    "            dict(step=\"all\")\n",
    "        ])\n",
    "    )\n",
    ")\n",
    "#-- Main Layout --#\n",
    "fig.update_layout(\n",
    "    title_text=f\"<br><sup>Monthly average – Simulated Data </sup></br>\",\n",
    "    title_font=dict(size=24, family=\"Arial\", color=\"black\"),\n",
    "    template=\"plotly_white\",\n",
    "    xaxis_title='',\n",
    "    width=1000,\n",
    "    height=500,\n",
    "    legend=dict(\n",
    "        orientation='h',\n",
    "        yanchor='bottom',\n",
    "        y=1.05,\n",
    "        xanchor='right',\n",
    "        x=.8,\n",
    "        tracegroupgap=5,\n",
    "        itemclick='toggle',\n",
    "        itemdoubleclick='toggle'\n",
    "    ),\n",
    "    hovermode=\"x unified\",\n",
    "    margin=dict(t=180, b=80)\n",
    ")\n",
    "# fig.update_traces(line=dict(dash=\"dot\", width=1.2))\n",
    "fig"
   ]
  },
  {
   "cell_type": "markdown",
   "id": "06eebbb8",
   "metadata": {},
   "source": [
    "### **2. Check my App**"
   ]
  },
  {
   "cell_type": "code",
   "execution_count": 7,
   "id": "58f143bd",
   "metadata": {},
   "outputs": [
    {
     "data": {
      "text/html": [
       "\n",
       "        <iframe\n",
       "            width=\"100%\"\n",
       "            height=\"650\"\n",
       "            src=\"http://127.0.0.1:8050/\"\n",
       "            frameborder=\"0\"\n",
       "            allowfullscreen\n",
       "            \n",
       "        ></iframe>\n",
       "        "
      ],
      "text/plain": [
       "<IPython.lib.display.IFrame at 0x120c2b040>"
      ]
     },
     "metadata": {},
     "output_type": "display_data"
    }
   ],
   "source": [
    "# -*- coding:utf-8 -*-\n",
    "#-----------------------------------------------------\n",
    "# @Project: ./windShortTermForecast/app/\n",
    "# @File: ./windShortTermForecast/app/app.py\n",
    "# @Author: Carlos Enciso Ojeda\n",
    "# @Email: carlos.enciso.o@gmail.com\n",
    "#-----------------------------------------------------\n",
    "#-- Import modules --#\n",
    "import dash\n",
    "import time\n",
    "from dash import Dash, html, dcc, Input, Output, State\n",
    "import dash_bootstrap_components as dbc\n",
    "import plotly.graph_objects as go\n",
    "import plotly.express as px\n",
    "import pandas as pd\n",
    "import numpy as np\n",
    "from datetime import datetime, timedelta\n",
    "\n",
    "#-- Function to generate sample data for demonstration --#\n",
    "def generate_sample_data(windfarm_id):\n",
    "    \"\"\"Generate sample wind generation data for different wind farms\"\"\"\n",
    "    np.random.seed(int(windfarm_id))  # For consistent results\n",
    "    \n",
    "    # Create date range for the next 15 days\n",
    "    dates = [datetime.now() + timedelta(hours=i) for i in range(24*15)]\n",
    "    \n",
    "    # Different generation patterns based on windfarm\n",
    "    if windfarm_id == \"0\":  # SEIN\n",
    "        base_power = np.random.uniform(800, 1200, len(dates))\n",
    "        daily_pattern = np.sin(np.linspace(0, 4*np.pi, len(dates))) * 200\n",
    "        noise = np.random.normal(0, 50, len(dates))\n",
    "        generation = base_power + daily_pattern + noise\n",
    "        farm_name = \"SEIN System\"\n",
    "    else:\n",
    "        # Individual wind farms have different patterns\n",
    "        base_multiplier = int(windfarm_id) * 50\n",
    "        base_power = np.random.uniform(100 + base_multiplier, 200 + base_multiplier, len(dates))\n",
    "        daily_pattern = np.sin(np.linspace(0, 4*np.pi, len(dates))) * (50 + int(windfarm_id)*5)\n",
    "        noise = np.random.normal(0, 10 + int(windfarm_id), len(dates))\n",
    "        generation = base_power + daily_pattern + noise\n",
    "        farm_name = f\"W.F. {['Punta Lomitas', 'Cupisnique', 'Duna', 'Huambos', 'Marcona', 'San Juan', 'Talara', 'Tres Hermanas', 'Wayra Ext.', 'Wayra I'][int(windfarm_id)-1]}\"\n",
    "    \n",
    "    return pd.DataFrame({\n",
    "        'datetime': dates,\n",
    "        'generation_mw': generation,\n",
    "        'windfarm': farm_name\n",
    "    })\n",
    "\n",
    "#-- Layout --#\n",
    "app = Dash(__name__,\n",
    "           external_stylesheets=[\n",
    "               dbc.themes.SUPERHERO,\n",
    "               \"https://cdnjs.cloudflare.com/ajax/libs/font-awesome/6.4.0/css/all.min.css\"],\n",
    "           assets_folder='/content/assets',\n",
    "           )\n",
    "#-- Tab Name --#\n",
    "app.title = \"ENGIE WindForecast Platform \"\n",
    "\n",
    "#-- Theme to Toggle --#\n",
    "LIGHT_THEME = dbc.themes.SUPERHERO\n",
    "DARK_THEME = dbc.themes.SUPERHERO\n",
    "\n",
    "#-- Cards --#\n",
    "def create_metric_card(icon, title, value, change, color=\"primary\"):\n",
    "    return dbc.Card([\n",
    "        dbc.CardBody([\n",
    "            html.Div([\n",
    "                html.Div([\n",
    "                    html.I(className=f\"fas {icon} fa-2x text-{color}\")\n",
    "                ], className=\"col-3 d-flex align-items-center\"),\n",
    "                html.Div([\n",
    "                    html.H4(value, className=\"mb-0\",\n",
    "                            style={\n",
    "                                'font-size': '32px',\n",
    "                                'font-weight': 'bold',\n",
    "                                }),\n",
    "                    html.P(title, className=\"mb-0 text-muted\"),\n",
    "                    html.Small(f\"{change}% from last month\",\n",
    "                              className=f\"text-{'success' if '+' in change else 'danger'}\")\n",
    "                ], className=\"col-9\")\n",
    "            ], className=\"row align-items-center\")\n",
    "        ])\n",
    "    ], className=\"mb-3 shadow-sm\")\n",
    "\n",
    "metric_cards = [\n",
    "    create_metric_card(\"fa-solid fa-wind\", \"m/s\", \"13.5\", \"+2.5\", \"primary\"),\n",
    "    create_metric_card(\"fa-solid fa-bolt\", \"MW\", \"1,234\", \"+900.5\", \"info\"),\n",
    "    create_metric_card(\"fa-solid fa-chart-line\", \"MAPE (%)\", \"20.2\", \"20\", \"warning\"),\n",
    "]\n",
    "\n",
    "#-- UI Theme switch --#\n",
    "color_mode_switch = html.Span(\n",
    "    [\n",
    "        dbc.Label(className=\"fa fa-moon\", html_for=\"switch\"),\n",
    "        dbc.Switch(id=\"switch\", value=False, className=\"d-inline-block ms-1\", persistence=True),\n",
    "        dbc.Label(className=\"fa fa-sun\", html_for=\"switch\"),\n",
    "    ],\n",
    "    className=\"my-2\"\n",
    ")\n",
    "\n",
    "#-- Main Layout --#\n",
    "app.layout = dbc.Container([\n",
    "    #-- Theme link and store --#\n",
    "    html.Link(rel=\"stylesheet\", href=LIGHT_THEME, id=\"theme-link\"),\n",
    "    dcc.Store(id=\"theme-store\", data={\"dark\": False}),\n",
    "    \n",
    "    #-- Left Panel --#\n",
    "    dbc.Row([\n",
    "        dbc.Col([\n",
    "            html.Div([\n",
    "                html.Div(color_mode_switch, className='mb-3 text-end'),\n",
    "                html.Img(\n",
    "                    src='https://upload.wikimedia.org/wikipedia/commons/8/8f/Logo-engie.svg',\n",
    "                    style={\n",
    "                        'width': '200px',\n",
    "                        'margin-bottom': '20px',\n",
    "                        'display': 'block',\n",
    "                        'margin-left': 'auto',\n",
    "                        'margin-right': 'auto'\n",
    "                    }\n",
    "                ),\n",
    "                html.H1([\n",
    "                    html.Span(\"Welcome\"),\n",
    "                    html.Br(),\n",
    "                    html.Span(\"WindForecast Platform\")\n",
    "                ], style={'color':'#00bdff'}, className=\"text-center mb-4\"),\n",
    "                html.P(\n",
    "                    \"This platform provides accurate wind forecasts and energy generation \\\n",
    "                    insights for 10 wind farms and the SEIN system. It supports short and \\\n",
    "                    long-term planning with interactive tools and clear visualizations.\",\n",
    "                    className=\"text-justify mb-4\",\n",
    "                ),\n",
    "                html.H5(\"Forecast Range\", className=\"mb-3\"),\n",
    "                dbc.RadioItems(\n",
    "                    id='top-buttons',\n",
    "                    className='btn-group-horizontal',\n",
    "                    inputClassName='btn-check',\n",
    "                    labelClassName=\"btn btn-outline-primary\",\n",
    "                    labelCheckedClassName=\"btn btn-primary\",\n",
    "                    options=[\n",
    "                        {\"label\": \"Short Term (15 days)\", \"value\":1},\n",
    "                        {\"label\": \"Long  Term (07 months)\", \"value\":2},\n",
    "                    ],\n",
    "                    value=1,\n",
    "                ),\n",
    "                html.Hr(),\n",
    "                html.H5(\"WindFarms\", className=\"mt-4\", style={'color':'#00bdff'}),\n",
    "                dbc.RadioItems(\n",
    "                    id=\"windfarm-buttons\",\n",
    "                    options=[\n",
    "                        {\"label\": \"SEIN\", \"value\": \"0\"},\n",
    "                        {\"label\": \"W.F. Punta Lomitas\", \"value\": \"1\"},\n",
    "                        {\"label\": \"W.F. Cupisnique\", \"value\": \"2\"},\n",
    "                        {\"label\": \"W.F. Duna\", \"value\": \"3\"},\n",
    "                        {\"label\": \"W.F. Huambos\", \"value\": \"4\"},\n",
    "                        {\"label\": \"W.F. Marcona\", \"value\": \"5\"},\n",
    "                        {\"label\": \"W.F. San Juan\", \"value\": \"6\"},\n",
    "                        {\"label\": \"W.F. Talara\", \"value\": \"7\"},\n",
    "                        {\"label\": \"W.F. Tres Hermanas\", \"value\": \"8\"},\n",
    "                        {\"label\": \"W.F. Wayra Ext.\", \"value\": \"9\"},\n",
    "                        {\"label\": \"W.F. Wayra I\", \"value\": \"10\"},\n",
    "                    ],\n",
    "                    value=\"0\",\n",
    "                    className=\"mb-3\"\n",
    "                ),\n",
    "            ])\n",
    "        ], width=4),\n",
    "        \n",
    "        #-- Right Panel --#\n",
    "        dbc.Col([\n",
    "            html.Br(),\n",
    "            html.H4(\"Monitoring KPI\", className=\"mt-4\", style={'color':'#00bdff'}),\n",
    "            dbc.Row([dbc.Col(card, width=4) for card in metric_cards]),\n",
    "            \n",
    "            html.H4(\"Forecast Wind Generation\", className=\"mt-4\", style={'color':'#00bdff'}),\n",
    "            #-- Add the generation plot here --#\n",
    "            dcc.Graph(id='generation-plot', style={'height': '400px'}),\n",
    "            \n",
    "            html.H4(\"Forecast Wind Resource\", className=\"mt-4\", style={'color':'#00bdff'}),\n",
    "            html.H4(\"Resume Forecast Skill\", className=\"mt-4\", style={'color':'#00bdff'}),\n",
    "        ], width=8)\n",
    "    ])\n",
    "], fluid=True)\n",
    "\n",
    "#-- Callback to update the generation plot based on windfarm selection --#\n",
    "@app.callback(\n",
    "    Output('generation-plot', 'figure'),\n",
    "    Input('windfarm-buttons', 'value'),\n",
    "    Input('top-buttons', 'value')\n",
    ")\n",
    "def update_generation_plot(windfarm_id, forecast_range):\n",
    "    # Generate sample data based on selected windfarm\n",
    "    df = generate_sample_data(windfarm_id)\n",
    "    \n",
    "    # Create the plot using Plotly Express\n",
    "    fig = px.line(\n",
    "        df, \n",
    "        x='datetime', \n",
    "        y='generation_mw',\n",
    "        title=f'Wind Generation Forecast - {df[\"windfarm\"].iloc[0]}',\n",
    "        labels={'datetime': 'Date', 'generation_mw': 'Generation (MW)'}\n",
    "    )\n",
    "    \n",
    "    # Customize the plot appearance\n",
    "    fig.update_layout(\n",
    "        plot_bgcolor='rgba(0,0,0,0)',\n",
    "        paper_bgcolor='rgba(0,0,0,0)',\n",
    "        font_color='white',\n",
    "        xaxis=dict(showgrid=True, gridwidth=1, gridcolor='gray'),\n",
    "        yaxis=dict(showgrid=True, gridwidth=1, gridcolor='gray'),\n",
    "        hovermode='x unified'\n",
    "    )\n",
    "    \n",
    "    # Add a range slider for better navigation\n",
    "    fig.update_xaxes(rangeslider_visible=True)\n",
    "    \n",
    "    return fig\n",
    "\n",
    "if __name__ == '__main__':\n",
    "    app.run(mode='inline', debug=False)"
   ]
  },
  {
   "cell_type": "code",
   "execution_count": null,
   "id": "194c7e9f",
   "metadata": {},
   "outputs": [],
   "source": []
  },
  {
   "cell_type": "code",
   "execution_count": null,
   "id": "c5a72603",
   "metadata": {},
   "outputs": [],
   "source": []
  },
  {
   "cell_type": "code",
   "execution_count": null,
   "id": "48aa68d4",
   "metadata": {},
   "outputs": [],
   "source": []
  },
  {
   "cell_type": "code",
   "execution_count": 9,
   "id": "34072f69-d822-49f4-8f14-c8a57892a0eb",
   "metadata": {
    "scrolled": true
   },
   "outputs": [
    {
     "data": {
      "text/html": [
       "<div>\n",
       "<style scoped>\n",
       "    .dataframe tbody tr th:only-of-type {\n",
       "        vertical-align: middle;\n",
       "    }\n",
       "\n",
       "    .dataframe tbody tr th {\n",
       "        vertical-align: top;\n",
       "    }\n",
       "\n",
       "    .dataframe thead th {\n",
       "        text-align: right;\n",
       "    }\n",
       "</style>\n",
       "<table border=\"1\" class=\"dataframe\">\n",
       "  <thead>\n",
       "    <tr style=\"text-align: right;\">\n",
       "      <th></th>\n",
       "      <th>Date</th>\n",
       "      <th>AAPL.Open</th>\n",
       "      <th>AAPL.High</th>\n",
       "      <th>AAPL.Low</th>\n",
       "      <th>AAPL.Close</th>\n",
       "      <th>AAPL.Volume</th>\n",
       "      <th>AAPL.Adjusted</th>\n",
       "      <th>dn</th>\n",
       "      <th>mavg</th>\n",
       "      <th>up</th>\n",
       "      <th>direction</th>\n",
       "    </tr>\n",
       "  </thead>\n",
       "  <tbody>\n",
       "    <tr>\n",
       "      <th>0</th>\n",
       "      <td>2015-02-17</td>\n",
       "      <td>127.489998</td>\n",
       "      <td>128.880005</td>\n",
       "      <td>126.919998</td>\n",
       "      <td>127.830002</td>\n",
       "      <td>63152400</td>\n",
       "      <td>122.905254</td>\n",
       "      <td>106.741052</td>\n",
       "      <td>117.927667</td>\n",
       "      <td>129.114281</td>\n",
       "      <td>Increasing</td>\n",
       "    </tr>\n",
       "    <tr>\n",
       "      <th>1</th>\n",
       "      <td>2015-02-18</td>\n",
       "      <td>127.629997</td>\n",
       "      <td>128.779999</td>\n",
       "      <td>127.449997</td>\n",
       "      <td>128.720001</td>\n",
       "      <td>44891700</td>\n",
       "      <td>123.760965</td>\n",
       "      <td>107.842423</td>\n",
       "      <td>118.940333</td>\n",
       "      <td>130.038244</td>\n",
       "      <td>Increasing</td>\n",
       "    </tr>\n",
       "    <tr>\n",
       "      <th>2</th>\n",
       "      <td>2015-02-19</td>\n",
       "      <td>128.479996</td>\n",
       "      <td>129.029999</td>\n",
       "      <td>128.330002</td>\n",
       "      <td>128.449997</td>\n",
       "      <td>37362400</td>\n",
       "      <td>123.501363</td>\n",
       "      <td>108.894245</td>\n",
       "      <td>119.889167</td>\n",
       "      <td>130.884089</td>\n",
       "      <td>Decreasing</td>\n",
       "    </tr>\n",
       "    <tr>\n",
       "      <th>3</th>\n",
       "      <td>2015-02-20</td>\n",
       "      <td>128.619995</td>\n",
       "      <td>129.500000</td>\n",
       "      <td>128.050003</td>\n",
       "      <td>129.500000</td>\n",
       "      <td>48948400</td>\n",
       "      <td>124.510914</td>\n",
       "      <td>109.785449</td>\n",
       "      <td>120.763500</td>\n",
       "      <td>131.741551</td>\n",
       "      <td>Increasing</td>\n",
       "    </tr>\n",
       "    <tr>\n",
       "      <th>4</th>\n",
       "      <td>2015-02-23</td>\n",
       "      <td>130.020004</td>\n",
       "      <td>133.000000</td>\n",
       "      <td>129.660004</td>\n",
       "      <td>133.000000</td>\n",
       "      <td>70974100</td>\n",
       "      <td>127.876074</td>\n",
       "      <td>110.372516</td>\n",
       "      <td>121.720167</td>\n",
       "      <td>133.067817</td>\n",
       "      <td>Increasing</td>\n",
       "    </tr>\n",
       "    <tr>\n",
       "      <th>...</th>\n",
       "      <td>...</td>\n",
       "      <td>...</td>\n",
       "      <td>...</td>\n",
       "      <td>...</td>\n",
       "      <td>...</td>\n",
       "      <td>...</td>\n",
       "      <td>...</td>\n",
       "      <td>...</td>\n",
       "      <td>...</td>\n",
       "      <td>...</td>\n",
       "      <td>...</td>\n",
       "    </tr>\n",
       "    <tr>\n",
       "      <th>501</th>\n",
       "      <td>2017-02-10</td>\n",
       "      <td>132.460007</td>\n",
       "      <td>132.940002</td>\n",
       "      <td>132.050003</td>\n",
       "      <td>132.119995</td>\n",
       "      <td>20065500</td>\n",
       "      <td>132.119995</td>\n",
       "      <td>114.494004</td>\n",
       "      <td>124.498666</td>\n",
       "      <td>134.503328</td>\n",
       "      <td>Decreasing</td>\n",
       "    </tr>\n",
       "    <tr>\n",
       "      <th>502</th>\n",
       "      <td>2017-02-13</td>\n",
       "      <td>133.080002</td>\n",
       "      <td>133.820007</td>\n",
       "      <td>132.750000</td>\n",
       "      <td>133.289993</td>\n",
       "      <td>23035400</td>\n",
       "      <td>133.289993</td>\n",
       "      <td>114.820798</td>\n",
       "      <td>125.205166</td>\n",
       "      <td>135.589534</td>\n",
       "      <td>Increasing</td>\n",
       "    </tr>\n",
       "    <tr>\n",
       "      <th>503</th>\n",
       "      <td>2017-02-14</td>\n",
       "      <td>133.470001</td>\n",
       "      <td>135.089996</td>\n",
       "      <td>133.250000</td>\n",
       "      <td>135.020004</td>\n",
       "      <td>32815500</td>\n",
       "      <td>135.020004</td>\n",
       "      <td>115.175718</td>\n",
       "      <td>125.953499</td>\n",
       "      <td>136.731280</td>\n",
       "      <td>Increasing</td>\n",
       "    </tr>\n",
       "    <tr>\n",
       "      <th>504</th>\n",
       "      <td>2017-02-15</td>\n",
       "      <td>135.520004</td>\n",
       "      <td>136.270004</td>\n",
       "      <td>134.619995</td>\n",
       "      <td>135.509995</td>\n",
       "      <td>35501600</td>\n",
       "      <td>135.509995</td>\n",
       "      <td>115.545035</td>\n",
       "      <td>126.723499</td>\n",
       "      <td>137.901963</td>\n",
       "      <td>Decreasing</td>\n",
       "    </tr>\n",
       "    <tr>\n",
       "      <th>505</th>\n",
       "      <td>2017-02-16</td>\n",
       "      <td>135.669998</td>\n",
       "      <td>135.899994</td>\n",
       "      <td>134.839996</td>\n",
       "      <td>135.350006</td>\n",
       "      <td>22118000</td>\n",
       "      <td>135.350006</td>\n",
       "      <td>116.203299</td>\n",
       "      <td>127.504333</td>\n",
       "      <td>138.805366</td>\n",
       "      <td>Decreasing</td>\n",
       "    </tr>\n",
       "  </tbody>\n",
       "</table>\n",
       "<p>506 rows × 11 columns</p>\n",
       "</div>"
      ],
      "text/plain": [
       "           Date   AAPL.Open   AAPL.High    AAPL.Low  AAPL.Close  AAPL.Volume  \\\n",
       "0    2015-02-17  127.489998  128.880005  126.919998  127.830002     63152400   \n",
       "1    2015-02-18  127.629997  128.779999  127.449997  128.720001     44891700   \n",
       "2    2015-02-19  128.479996  129.029999  128.330002  128.449997     37362400   \n",
       "3    2015-02-20  128.619995  129.500000  128.050003  129.500000     48948400   \n",
       "4    2015-02-23  130.020004  133.000000  129.660004  133.000000     70974100   \n",
       "..          ...         ...         ...         ...         ...          ...   \n",
       "501  2017-02-10  132.460007  132.940002  132.050003  132.119995     20065500   \n",
       "502  2017-02-13  133.080002  133.820007  132.750000  133.289993     23035400   \n",
       "503  2017-02-14  133.470001  135.089996  133.250000  135.020004     32815500   \n",
       "504  2017-02-15  135.520004  136.270004  134.619995  135.509995     35501600   \n",
       "505  2017-02-16  135.669998  135.899994  134.839996  135.350006     22118000   \n",
       "\n",
       "     AAPL.Adjusted          dn        mavg          up   direction  \n",
       "0       122.905254  106.741052  117.927667  129.114281  Increasing  \n",
       "1       123.760965  107.842423  118.940333  130.038244  Increasing  \n",
       "2       123.501363  108.894245  119.889167  130.884089  Decreasing  \n",
       "3       124.510914  109.785449  120.763500  131.741551  Increasing  \n",
       "4       127.876074  110.372516  121.720167  133.067817  Increasing  \n",
       "..             ...         ...         ...         ...         ...  \n",
       "501     132.119995  114.494004  124.498666  134.503328  Decreasing  \n",
       "502     133.289993  114.820798  125.205166  135.589534  Increasing  \n",
       "503     135.020004  115.175718  125.953499  136.731280  Increasing  \n",
       "504     135.509995  115.545035  126.723499  137.901963  Decreasing  \n",
       "505     135.350006  116.203299  127.504333  138.805366  Decreasing  \n",
       "\n",
       "[506 rows x 11 columns]"
      ]
     },
     "metadata": {},
     "output_type": "display_data"
    },
    {
     "data": {
      "application/vnd.plotly.v1+json": {
       "config": {
        "plotlyServerURL": "https://plot.ly"
       },
       "data": [
        {
         "hovertemplate": "Date=%{x}<br>AAPL.High=%{y}<extra></extra>",
         "legendgroup": "",
         "line": {
          "color": "#636efa",
          "dash": "solid"
         },
         "marker": {
          "symbol": "circle"
         },
         "mode": "lines",
         "name": "",
         "orientation": "v",
         "showlegend": false,
         "type": "scatter",
         "x": [
          "2015-02-17",
          "2015-02-18",
          "2015-02-19",
          "2015-02-20",
          "2015-02-23",
          "2015-02-24",
          "2015-02-25",
          "2015-02-26",
          "2015-02-27",
          "2015-03-02",
          "2015-03-03",
          "2015-03-04",
          "2015-03-05",
          "2015-03-06",
          "2015-03-09",
          "2015-03-10",
          "2015-03-11",
          "2015-03-12",
          "2015-03-13",
          "2015-03-16",
          "2015-03-17",
          "2015-03-18",
          "2015-03-19",
          "2015-03-20",
          "2015-03-23",
          "2015-03-24",
          "2015-03-25",
          "2015-03-26",
          "2015-03-27",
          "2015-03-30",
          "2015-03-31",
          "2015-04-01",
          "2015-04-02",
          "2015-04-06",
          "2015-04-07",
          "2015-04-08",
          "2015-04-09",
          "2015-04-10",
          "2015-04-13",
          "2015-04-14",
          "2015-04-15",
          "2015-04-16",
          "2015-04-17",
          "2015-04-20",
          "2015-04-21",
          "2015-04-22",
          "2015-04-23",
          "2015-04-24",
          "2015-04-27",
          "2015-04-28",
          "2015-04-29",
          "2015-04-30",
          "2015-05-01",
          "2015-05-04",
          "2015-05-05",
          "2015-05-06",
          "2015-05-07",
          "2015-05-08",
          "2015-05-11",
          "2015-05-12",
          "2015-05-13",
          "2015-05-14",
          "2015-05-15",
          "2015-05-18",
          "2015-05-19",
          "2015-05-20",
          "2015-05-21",
          "2015-05-22",
          "2015-05-26",
          "2015-05-27",
          "2015-05-28",
          "2015-05-29",
          "2015-06-01",
          "2015-06-02",
          "2015-06-03",
          "2015-06-04",
          "2015-06-05",
          "2015-06-08",
          "2015-06-09",
          "2015-06-10",
          "2015-06-11",
          "2015-06-12",
          "2015-06-15",
          "2015-06-16",
          "2015-06-17",
          "2015-06-18",
          "2015-06-19",
          "2015-06-22",
          "2015-06-23",
          "2015-06-24",
          "2015-06-25",
          "2015-06-26",
          "2015-06-29",
          "2015-06-30",
          "2015-07-01",
          "2015-07-02",
          "2015-07-06",
          "2015-07-07",
          "2015-07-08",
          "2015-07-09",
          "2015-07-10",
          "2015-07-13",
          "2015-07-14",
          "2015-07-15",
          "2015-07-16",
          "2015-07-17",
          "2015-07-20",
          "2015-07-21",
          "2015-07-22",
          "2015-07-23",
          "2015-07-24",
          "2015-07-27",
          "2015-07-28",
          "2015-07-29",
          "2015-07-30",
          "2015-07-31",
          "2015-08-03",
          "2015-08-04",
          "2015-08-05",
          "2015-08-06",
          "2015-08-07",
          "2015-08-10",
          "2015-08-11",
          "2015-08-12",
          "2015-08-13",
          "2015-08-14",
          "2015-08-17",
          "2015-08-18",
          "2015-08-19",
          "2015-08-20",
          "2015-08-21",
          "2015-08-24",
          "2015-08-25",
          "2015-08-26",
          "2015-08-27",
          "2015-08-28",
          "2015-08-31",
          "2015-09-01",
          "2015-09-02",
          "2015-09-03",
          "2015-09-04",
          "2015-09-08",
          "2015-09-09",
          "2015-09-10",
          "2015-09-11",
          "2015-09-14",
          "2015-09-15",
          "2015-09-16",
          "2015-09-17",
          "2015-09-18",
          "2015-09-21",
          "2015-09-22",
          "2015-09-23",
          "2015-09-24",
          "2015-09-25",
          "2015-09-28",
          "2015-09-29",
          "2015-09-30",
          "2015-10-01",
          "2015-10-02",
          "2015-10-05",
          "2015-10-06",
          "2015-10-07",
          "2015-10-08",
          "2015-10-09",
          "2015-10-12",
          "2015-10-13",
          "2015-10-14",
          "2015-10-15",
          "2015-10-16",
          "2015-10-19",
          "2015-10-20",
          "2015-10-21",
          "2015-10-22",
          "2015-10-23",
          "2015-10-26",
          "2015-10-27",
          "2015-10-28",
          "2015-10-29",
          "2015-10-30",
          "2015-11-02",
          "2015-11-03",
          "2015-11-04",
          "2015-11-05",
          "2015-11-06",
          "2015-11-09",
          "2015-11-10",
          "2015-11-11",
          "2015-11-12",
          "2015-11-13",
          "2015-11-16",
          "2015-11-17",
          "2015-11-18",
          "2015-11-19",
          "2015-11-20",
          "2015-11-23",
          "2015-11-24",
          "2015-11-25",
          "2015-11-27",
          "2015-11-30",
          "2015-12-01",
          "2015-12-02",
          "2015-12-03",
          "2015-12-04",
          "2015-12-07",
          "2015-12-08",
          "2015-12-09",
          "2015-12-10",
          "2015-12-11",
          "2015-12-14",
          "2015-12-15",
          "2015-12-16",
          "2015-12-17",
          "2015-12-18",
          "2015-12-21",
          "2015-12-22",
          "2015-12-23",
          "2015-12-24",
          "2015-12-28",
          "2015-12-29",
          "2015-12-30",
          "2015-12-31",
          "2016-01-04",
          "2016-01-05",
          "2016-01-06",
          "2016-01-07",
          "2016-01-08",
          "2016-01-11",
          "2016-01-12",
          "2016-01-13",
          "2016-01-14",
          "2016-01-15",
          "2016-01-19",
          "2016-01-20",
          "2016-01-21",
          "2016-01-22",
          "2016-01-25",
          "2016-01-26",
          "2016-01-27",
          "2016-01-28",
          "2016-01-29",
          "2016-02-01",
          "2016-02-02",
          "2016-02-03",
          "2016-02-04",
          "2016-02-05",
          "2016-02-08",
          "2016-02-09",
          "2016-02-10",
          "2016-02-11",
          "2016-02-12",
          "2016-02-16",
          "2016-02-17",
          "2016-02-18",
          "2016-02-19",
          "2016-02-22",
          "2016-02-23",
          "2016-02-24",
          "2016-02-25",
          "2016-02-26",
          "2016-02-29",
          "2016-03-01",
          "2016-03-02",
          "2016-03-03",
          "2016-03-04",
          "2016-03-07",
          "2016-03-08",
          "2016-03-09",
          "2016-03-10",
          "2016-03-11",
          "2016-03-14",
          "2016-03-15",
          "2016-03-16",
          "2016-03-17",
          "2016-03-18",
          "2016-03-21",
          "2016-03-22",
          "2016-03-23",
          "2016-03-24",
          "2016-03-28",
          "2016-03-29",
          "2016-03-30",
          "2016-03-31",
          "2016-04-01",
          "2016-04-04",
          "2016-04-05",
          "2016-04-06",
          "2016-04-07",
          "2016-04-08",
          "2016-04-11",
          "2016-04-12",
          "2016-04-13",
          "2016-04-14",
          "2016-04-15",
          "2016-04-18",
          "2016-04-19",
          "2016-04-20",
          "2016-04-21",
          "2016-04-22",
          "2016-04-25",
          "2016-04-26",
          "2016-04-27",
          "2016-04-28",
          "2016-04-29",
          "2016-05-02",
          "2016-05-03",
          "2016-05-04",
          "2016-05-05",
          "2016-05-06",
          "2016-05-09",
          "2016-05-10",
          "2016-05-11",
          "2016-05-12",
          "2016-05-13",
          "2016-05-16",
          "2016-05-17",
          "2016-05-18",
          "2016-05-19",
          "2016-05-20",
          "2016-05-23",
          "2016-05-24",
          "2016-05-25",
          "2016-05-26",
          "2016-05-27",
          "2016-05-31",
          "2016-06-01",
          "2016-06-02",
          "2016-06-03",
          "2016-06-06",
          "2016-06-07",
          "2016-06-08",
          "2016-06-09",
          "2016-06-10",
          "2016-06-13",
          "2016-06-14",
          "2016-06-15",
          "2016-06-16",
          "2016-06-17",
          "2016-06-20",
          "2016-06-21",
          "2016-06-22",
          "2016-06-23",
          "2016-06-24",
          "2016-06-27",
          "2016-06-28",
          "2016-06-29",
          "2016-06-30",
          "2016-07-01",
          "2016-07-05",
          "2016-07-06",
          "2016-07-07",
          "2016-07-08",
          "2016-07-11",
          "2016-07-12",
          "2016-07-13",
          "2016-07-14",
          "2016-07-15",
          "2016-07-18",
          "2016-07-19",
          "2016-07-20",
          "2016-07-21",
          "2016-07-22",
          "2016-07-25",
          "2016-07-26",
          "2016-07-27",
          "2016-07-28",
          "2016-07-29",
          "2016-08-01",
          "2016-08-02",
          "2016-08-03",
          "2016-08-04",
          "2016-08-05",
          "2016-08-08",
          "2016-08-09",
          "2016-08-10",
          "2016-08-11",
          "2016-08-12",
          "2016-08-15",
          "2016-08-16",
          "2016-08-17",
          "2016-08-18",
          "2016-08-19",
          "2016-08-22",
          "2016-08-23",
          "2016-08-24",
          "2016-08-25",
          "2016-08-26",
          "2016-08-29",
          "2016-08-30",
          "2016-08-31",
          "2016-09-01",
          "2016-09-02",
          "2016-09-06",
          "2016-09-07",
          "2016-09-08",
          "2016-09-09",
          "2016-09-12",
          "2016-09-13",
          "2016-09-14",
          "2016-09-15",
          "2016-09-16",
          "2016-09-19",
          "2016-09-20",
          "2016-09-21",
          "2016-09-22",
          "2016-09-23",
          "2016-09-26",
          "2016-09-27",
          "2016-09-28",
          "2016-09-29",
          "2016-09-30",
          "2016-10-03",
          "2016-10-04",
          "2016-10-05",
          "2016-10-06",
          "2016-10-07",
          "2016-10-10",
          "2016-10-11",
          "2016-10-12",
          "2016-10-13",
          "2016-10-14",
          "2016-10-17",
          "2016-10-18",
          "2016-10-19",
          "2016-10-20",
          "2016-10-21",
          "2016-10-24",
          "2016-10-25",
          "2016-10-26",
          "2016-10-27",
          "2016-10-28",
          "2016-10-31",
          "2016-11-01",
          "2016-11-02",
          "2016-11-03",
          "2016-11-04",
          "2016-11-07",
          "2016-11-08",
          "2016-11-09",
          "2016-11-10",
          "2016-11-11",
          "2016-11-14",
          "2016-11-15",
          "2016-11-16",
          "2016-11-17",
          "2016-11-18",
          "2016-11-21",
          "2016-11-22",
          "2016-11-23",
          "2016-11-25",
          "2016-11-28",
          "2016-11-29",
          "2016-11-30",
          "2016-12-01",
          "2016-12-02",
          "2016-12-05",
          "2016-12-06",
          "2016-12-07",
          "2016-12-08",
          "2016-12-09",
          "2016-12-12",
          "2016-12-13",
          "2016-12-14",
          "2016-12-15",
          "2016-12-16",
          "2016-12-19",
          "2016-12-20",
          "2016-12-21",
          "2016-12-22",
          "2016-12-23",
          "2016-12-27",
          "2016-12-28",
          "2016-12-29",
          "2016-12-30",
          "2017-01-03",
          "2017-01-04",
          "2017-01-05",
          "2017-01-06",
          "2017-01-09",
          "2017-01-10",
          "2017-01-11",
          "2017-01-12",
          "2017-01-13",
          "2017-01-17",
          "2017-01-18",
          "2017-01-19",
          "2017-01-20",
          "2017-01-23",
          "2017-01-24",
          "2017-01-25",
          "2017-01-26",
          "2017-01-27",
          "2017-01-30",
          "2017-01-31",
          "2017-02-01",
          "2017-02-02",
          "2017-02-03",
          "2017-02-06",
          "2017-02-07",
          "2017-02-08",
          "2017-02-09",
          "2017-02-10",
          "2017-02-13",
          "2017-02-14",
          "2017-02-15",
          "2017-02-16"
         ],
         "xaxis": "x",
         "y": {
          "bdata": "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",
          "dtype": "f8"
         },
         "yaxis": "y"
        }
       ],
       "layout": {
        "height": 500,
        "hovermode": "x unified",
        "legend": {
         "itemclick": "toggle",
         "itemdoubleclick": "toggle",
         "orientation": "h",
         "tracegroupgap": 5,
         "x": 0.8,
         "xanchor": "right",
         "y": 1.05,
         "yanchor": "bottom"
        },
        "margin": {
         "b": 80,
         "t": 180
        },
        "template": {
         "data": {
          "bar": [
           {
            "error_x": {
             "color": "#2a3f5f"
            },
            "error_y": {
             "color": "#2a3f5f"
            },
            "marker": {
             "line": {
              "color": "white",
              "width": 0.5
             },
             "pattern": {
              "fillmode": "overlay",
              "size": 10,
              "solidity": 0.2
             }
            },
            "type": "bar"
           }
          ],
          "barpolar": [
           {
            "marker": {
             "line": {
              "color": "white",
              "width": 0.5
             },
             "pattern": {
              "fillmode": "overlay",
              "size": 10,
              "solidity": 0.2
             }
            },
            "type": "barpolar"
           }
          ],
          "carpet": [
           {
            "aaxis": {
             "endlinecolor": "#2a3f5f",
             "gridcolor": "#C8D4E3",
             "linecolor": "#C8D4E3",
             "minorgridcolor": "#C8D4E3",
             "startlinecolor": "#2a3f5f"
            },
            "baxis": {
             "endlinecolor": "#2a3f5f",
             "gridcolor": "#C8D4E3",
             "linecolor": "#C8D4E3",
             "minorgridcolor": "#C8D4E3",
             "startlinecolor": "#2a3f5f"
            },
            "type": "carpet"
           }
          ],
          "choropleth": [
           {
            "colorbar": {
             "outlinewidth": 0,
             "ticks": ""
            },
            "type": "choropleth"
           }
          ],
          "contour": [
           {
            "colorbar": {
             "outlinewidth": 0,
             "ticks": ""
            },
            "colorscale": [
             [
              0,
              "#0d0887"
             ],
             [
              0.1111111111111111,
              "#46039f"
             ],
             [
              0.2222222222222222,
              "#7201a8"
             ],
             [
              0.3333333333333333,
              "#9c179e"
             ],
             [
              0.4444444444444444,
              "#bd3786"
             ],
             [
              0.5555555555555556,
              "#d8576b"
             ],
             [
              0.6666666666666666,
              "#ed7953"
             ],
             [
              0.7777777777777778,
              "#fb9f3a"
             ],
             [
              0.8888888888888888,
              "#fdca26"
             ],
             [
              1,
              "#f0f921"
             ]
            ],
            "type": "contour"
           }
          ],
          "contourcarpet": [
           {
            "colorbar": {
             "outlinewidth": 0,
             "ticks": ""
            },
            "type": "contourcarpet"
           }
          ],
          "heatmap": [
           {
            "colorbar": {
             "outlinewidth": 0,
             "ticks": ""
            },
            "colorscale": [
             [
              0,
              "#0d0887"
             ],
             [
              0.1111111111111111,
              "#46039f"
             ],
             [
              0.2222222222222222,
              "#7201a8"
             ],
             [
              0.3333333333333333,
              "#9c179e"
             ],
             [
              0.4444444444444444,
              "#bd3786"
             ],
             [
              0.5555555555555556,
              "#d8576b"
             ],
             [
              0.6666666666666666,
              "#ed7953"
             ],
             [
              0.7777777777777778,
              "#fb9f3a"
             ],
             [
              0.8888888888888888,
              "#fdca26"
             ],
             [
              1,
              "#f0f921"
             ]
            ],
            "type": "heatmap"
           }
          ],
          "histogram": [
           {
            "marker": {
             "pattern": {
              "fillmode": "overlay",
              "size": 10,
              "solidity": 0.2
             }
            },
            "type": "histogram"
           }
          ],
          "histogram2d": [
           {
            "colorbar": {
             "outlinewidth": 0,
             "ticks": ""
            },
            "colorscale": [
             [
              0,
              "#0d0887"
             ],
             [
              0.1111111111111111,
              "#46039f"
             ],
             [
              0.2222222222222222,
              "#7201a8"
             ],
             [
              0.3333333333333333,
              "#9c179e"
             ],
             [
              0.4444444444444444,
              "#bd3786"
             ],
             [
              0.5555555555555556,
              "#d8576b"
             ],
             [
              0.6666666666666666,
              "#ed7953"
             ],
             [
              0.7777777777777778,
              "#fb9f3a"
             ],
             [
              0.8888888888888888,
              "#fdca26"
             ],
             [
              1,
              "#f0f921"
             ]
            ],
            "type": "histogram2d"
           }
          ],
          "histogram2dcontour": [
           {
            "colorbar": {
             "outlinewidth": 0,
             "ticks": ""
            },
            "colorscale": [
             [
              0,
              "#0d0887"
             ],
             [
              0.1111111111111111,
              "#46039f"
             ],
             [
              0.2222222222222222,
              "#7201a8"
             ],
             [
              0.3333333333333333,
              "#9c179e"
             ],
             [
              0.4444444444444444,
              "#bd3786"
             ],
             [
              0.5555555555555556,
              "#d8576b"
             ],
             [
              0.6666666666666666,
              "#ed7953"
             ],
             [
              0.7777777777777778,
              "#fb9f3a"
             ],
             [
              0.8888888888888888,
              "#fdca26"
             ],
             [
              1,
              "#f0f921"
             ]
            ],
            "type": "histogram2dcontour"
           }
          ],
          "mesh3d": [
           {
            "colorbar": {
             "outlinewidth": 0,
             "ticks": ""
            },
            "type": "mesh3d"
           }
          ],
          "parcoords": [
           {
            "line": {
             "colorbar": {
              "outlinewidth": 0,
              "ticks": ""
             }
            },
            "type": "parcoords"
           }
          ],
          "pie": [
           {
            "automargin": true,
            "type": "pie"
           }
          ],
          "scatter": [
           {
            "fillpattern": {
             "fillmode": "overlay",
             "size": 10,
             "solidity": 0.2
            },
            "type": "scatter"
           }
          ],
          "scatter3d": [
           {
            "line": {
             "colorbar": {
              "outlinewidth": 0,
              "ticks": ""
             }
            },
            "marker": {
             "colorbar": {
              "outlinewidth": 0,
              "ticks": ""
             }
            },
            "type": "scatter3d"
           }
          ],
          "scattercarpet": [
           {
            "marker": {
             "colorbar": {
              "outlinewidth": 0,
              "ticks": ""
             }
            },
            "type": "scattercarpet"
           }
          ],
          "scattergeo": [
           {
            "marker": {
             "colorbar": {
              "outlinewidth": 0,
              "ticks": ""
             }
            },
            "type": "scattergeo"
           }
          ],
          "scattergl": [
           {
            "marker": {
             "colorbar": {
              "outlinewidth": 0,
              "ticks": ""
             }
            },
            "type": "scattergl"
           }
          ],
          "scattermap": [
           {
            "marker": {
             "colorbar": {
              "outlinewidth": 0,
              "ticks": ""
             }
            },
            "type": "scattermap"
           }
          ],
          "scattermapbox": [
           {
            "marker": {
             "colorbar": {
              "outlinewidth": 0,
              "ticks": ""
             }
            },
            "type": "scattermapbox"
           }
          ],
          "scatterpolar": [
           {
            "marker": {
             "colorbar": {
              "outlinewidth": 0,
              "ticks": ""
             }
            },
            "type": "scatterpolar"
           }
          ],
          "scatterpolargl": [
           {
            "marker": {
             "colorbar": {
              "outlinewidth": 0,
              "ticks": ""
             }
            },
            "type": "scatterpolargl"
           }
          ],
          "scatterternary": [
           {
            "marker": {
             "colorbar": {
              "outlinewidth": 0,
              "ticks": ""
             }
            },
            "type": "scatterternary"
           }
          ],
          "surface": [
           {
            "colorbar": {
             "outlinewidth": 0,
             "ticks": ""
            },
            "colorscale": [
             [
              0,
              "#0d0887"
             ],
             [
              0.1111111111111111,
              "#46039f"
             ],
             [
              0.2222222222222222,
              "#7201a8"
             ],
             [
              0.3333333333333333,
              "#9c179e"
             ],
             [
              0.4444444444444444,
              "#bd3786"
             ],
             [
              0.5555555555555556,
              "#d8576b"
             ],
             [
              0.6666666666666666,
              "#ed7953"
             ],
             [
              0.7777777777777778,
              "#fb9f3a"
             ],
             [
              0.8888888888888888,
              "#fdca26"
             ],
             [
              1,
              "#f0f921"
             ]
            ],
            "type": "surface"
           }
          ],
          "table": [
           {
            "cells": {
             "fill": {
              "color": "#EBF0F8"
             },
             "line": {
              "color": "white"
             }
            },
            "header": {
             "fill": {
              "color": "#C8D4E3"
             },
             "line": {
              "color": "white"
             }
            },
            "type": "table"
           }
          ]
         },
         "layout": {
          "annotationdefaults": {
           "arrowcolor": "#2a3f5f",
           "arrowhead": 0,
           "arrowwidth": 1
          },
          "autotypenumbers": "strict",
          "coloraxis": {
           "colorbar": {
            "outlinewidth": 0,
            "ticks": ""
           }
          },
          "colorscale": {
           "diverging": [
            [
             0,
             "#8e0152"
            ],
            [
             0.1,
             "#c51b7d"
            ],
            [
             0.2,
             "#de77ae"
            ],
            [
             0.3,
             "#f1b6da"
            ],
            [
             0.4,
             "#fde0ef"
            ],
            [
             0.5,
             "#f7f7f7"
            ],
            [
             0.6,
             "#e6f5d0"
            ],
            [
             0.7,
             "#b8e186"
            ],
            [
             0.8,
             "#7fbc41"
            ],
            [
             0.9,
             "#4d9221"
            ],
            [
             1,
             "#276419"
            ]
           ],
           "sequential": [
            [
             0,
             "#0d0887"
            ],
            [
             0.1111111111111111,
             "#46039f"
            ],
            [
             0.2222222222222222,
             "#7201a8"
            ],
            [
             0.3333333333333333,
             "#9c179e"
            ],
            [
             0.4444444444444444,
             "#bd3786"
            ],
            [
             0.5555555555555556,
             "#d8576b"
            ],
            [
             0.6666666666666666,
             "#ed7953"
            ],
            [
             0.7777777777777778,
             "#fb9f3a"
            ],
            [
             0.8888888888888888,
             "#fdca26"
            ],
            [
             1,
             "#f0f921"
            ]
           ],
           "sequentialminus": [
            [
             0,
             "#0d0887"
            ],
            [
             0.1111111111111111,
             "#46039f"
            ],
            [
             0.2222222222222222,
             "#7201a8"
            ],
            [
             0.3333333333333333,
             "#9c179e"
            ],
            [
             0.4444444444444444,
             "#bd3786"
            ],
            [
             0.5555555555555556,
             "#d8576b"
            ],
            [
             0.6666666666666666,
             "#ed7953"
            ],
            [
             0.7777777777777778,
             "#fb9f3a"
            ],
            [
             0.8888888888888888,
             "#fdca26"
            ],
            [
             1,
             "#f0f921"
            ]
           ]
          },
          "colorway": [
           "#636efa",
           "#EF553B",
           "#00cc96",
           "#ab63fa",
           "#FFA15A",
           "#19d3f3",
           "#FF6692",
           "#B6E880",
           "#FF97FF",
           "#FECB52"
          ],
          "font": {
           "color": "#2a3f5f"
          },
          "geo": {
           "bgcolor": "white",
           "lakecolor": "white",
           "landcolor": "white",
           "showlakes": true,
           "showland": true,
           "subunitcolor": "#C8D4E3"
          },
          "hoverlabel": {
           "align": "left"
          },
          "hovermode": "closest",
          "mapbox": {
           "style": "light"
          },
          "paper_bgcolor": "white",
          "plot_bgcolor": "white",
          "polar": {
           "angularaxis": {
            "gridcolor": "#EBF0F8",
            "linecolor": "#EBF0F8",
            "ticks": ""
           },
           "bgcolor": "white",
           "radialaxis": {
            "gridcolor": "#EBF0F8",
            "linecolor": "#EBF0F8",
            "ticks": ""
           }
          },
          "scene": {
           "xaxis": {
            "backgroundcolor": "white",
            "gridcolor": "#DFE8F3",
            "gridwidth": 2,
            "linecolor": "#EBF0F8",
            "showbackground": true,
            "ticks": "",
            "zerolinecolor": "#EBF0F8"
           },
           "yaxis": {
            "backgroundcolor": "white",
            "gridcolor": "#DFE8F3",
            "gridwidth": 2,
            "linecolor": "#EBF0F8",
            "showbackground": true,
            "ticks": "",
            "zerolinecolor": "#EBF0F8"
           },
           "zaxis": {
            "backgroundcolor": "white",
            "gridcolor": "#DFE8F3",
            "gridwidth": 2,
            "linecolor": "#EBF0F8",
            "showbackground": true,
            "ticks": "",
            "zerolinecolor": "#EBF0F8"
           }
          },
          "shapedefaults": {
           "line": {
            "color": "#2a3f5f"
           }
          },
          "ternary": {
           "aaxis": {
            "gridcolor": "#DFE8F3",
            "linecolor": "#A2B1C6",
            "ticks": ""
           },
           "baxis": {
            "gridcolor": "#DFE8F3",
            "linecolor": "#A2B1C6",
            "ticks": ""
           },
           "bgcolor": "white",
           "caxis": {
            "gridcolor": "#DFE8F3",
            "linecolor": "#A2B1C6",
            "ticks": ""
           }
          },
          "title": {
           "x": 0.05
          },
          "xaxis": {
           "automargin": true,
           "gridcolor": "#EBF0F8",
           "linecolor": "#EBF0F8",
           "ticks": "",
           "title": {
            "standoff": 15
           },
           "zerolinecolor": "#EBF0F8",
           "zerolinewidth": 2
          },
          "yaxis": {
           "automargin": true,
           "gridcolor": "#EBF0F8",
           "linecolor": "#EBF0F8",
           "ticks": "",
           "title": {
            "standoff": 15
           },
           "zerolinecolor": "#EBF0F8",
           "zerolinewidth": 2
          }
         }
        },
        "title": {
         "font": {
          "color": "black",
          "family": "Arial",
          "size": 24
         },
         "text": "<br><sup>Monthly average – Simulated Data </sup></br>"
        },
        "width": 1000,
        "xaxis": {
         "anchor": "y",
         "domain": [
          0,
          1
         ],
         "rangeselector": {
          "buttons": [
           {
            "count": 1,
            "label": "1m",
            "step": "month",
            "stepmode": "backward"
           },
           {
            "count": 6,
            "label": "6m",
            "step": "month",
            "stepmode": "backward"
           },
           {
            "count": 1,
            "label": "YTD",
            "step": "year",
            "stepmode": "todate"
           },
           {
            "count": 1,
            "label": "1y",
            "step": "year",
            "stepmode": "backward"
           },
           {
            "step": "all"
           }
          ]
         },
         "rangeslider": {
          "visible": true
         },
         "title": {
          "text": ""
         }
        },
        "yaxis": {
         "anchor": "x",
         "domain": [
          0,
          1
         ],
         "title": {
          "text": "AAPL.High"
         }
        }
       }
      }
     },
     "metadata": {},
     "output_type": "display_data"
    }
   ],
   "source": [
    "import plotly.express as px\n",
    "import pandas as pd\n",
    "\n",
    "df = pd.read_csv('https://raw.githubusercontent.com/plotly/datasets/master/finance-charts-apple.csv')\n",
    "display(df)\n",
    "\n",
    "fig = px.line(df, x='Date', y='AAPL.High', title='Time Series with Range Slider and Selectors')\n",
    "\n",
    "fig.update_xaxes(\n",
    "    rangeslider_visible=True,\n",
    "    rangeselector=dict(\n",
    "        buttons=list([\n",
    "            dict(count=1, label=\"1m\", step=\"month\", stepmode=\"backward\"),\n",
    "            dict(count=6, label=\"6m\", step=\"month\", stepmode=\"backward\"),\n",
    "            dict(count=1, label=\"YTD\", step=\"year\", stepmode=\"todate\"),\n",
    "            dict(count=1, label=\"1y\", step=\"year\", stepmode=\"backward\"),\n",
    "            dict(step=\"all\")\n",
    "        ])\n",
    "    )\n",
    ")\n",
    "fig.update_layout(\n",
    "    title_text=f\"<br><sup>Monthly average – Simulated Data </sup></br>\",\n",
    "    title_font=dict(size=24, family=\"Arial\", color=\"black\"),\n",
    "    template=\"plotly_white\",\n",
    "    xaxis_title='',\n",
    "    width=1000,\n",
    "    height=500,\n",
    "    legend=dict(\n",
    "        orientation='h',\n",
    "        yanchor='bottom',\n",
    "        y=1.05,\n",
    "        xanchor='right',\n",
    "        x=.8,\n",
    "        tracegroupgap=5,\n",
    "        itemclick='toggle',\n",
    "        itemdoubleclick='toggle'\n",
    "    ),\n",
    "    hovermode=\"x unified\",\n",
    "    margin=dict(t=180, b=80)\n",
    ")\n",
    "fig.show()"
   ]
  },
  {
   "cell_type": "code",
   "execution_count": null,
   "id": "c1287ccf-f1bb-442f-8bd5-1d70544aaf14",
   "metadata": {},
   "outputs": [],
   "source": []
  },
  {
   "cell_type": "code",
   "execution_count": null,
   "id": "dc059ad5-0eb5-4c42-a7d4-a3d5fdb3cb28",
   "metadata": {},
   "outputs": [],
   "source": []
  }
 ],
 "metadata": {
  "kernelspec": {
   "display_name": "Python 3 (ipykernel)",
   "language": "python",
   "name": "python3"
  },
  "language_info": {
   "codemirror_mode": {
    "name": "ipython",
    "version": 3
   },
   "file_extension": ".py",
   "mimetype": "text/x-python",
   "name": "python",
   "nbconvert_exporter": "python",
   "pygments_lexer": "ipython3",
   "version": "3.9.19"
  }
 },
 "nbformat": 4,
 "nbformat_minor": 5
}
